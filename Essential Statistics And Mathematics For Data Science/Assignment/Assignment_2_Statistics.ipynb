{
 "cells": [
  {
   "cell_type": "markdown",
   "id": "ec6d604e-6653-44e9-b2ff-58cf454a3b11",
   "metadata": {},
   "source": [
    "# 1.  Business Problem: A car rental company wants to analyze the rental durations of its\n",
    " customers to understand the typical rental period and optimize its pricing and fleet\n",
    " management strategies. Data: Let's consider the rental durations (in days) for a\n",
    " sample of 50 customers:\n",
    " 3, 2, 5, 4, 7, 2, 3, 3, 1, 6, 4, 2, 3, 5, 2, 4, 2, 1, 3, 5, 6, 3, 2, 1, 4, 2, 4, 5, 3, 2, 7, 2, 3,\n",
    " 4, 5, 1, 6, 2, 4, 3, 5, 3, 2, 4, 2, 6, 3, 2, 4, 5\n",
    " Question:\n",
    " a. Mean: What is the average rental duration for customers at the car rental\n",
    " company?\n",
    " b. Median: What is the typical or central rental duration experienced by\n",
    " customers?\n",
    " c. Mode: Are there any recurring or most frequently occurring rental\n",
    " durations for customers?\n",
    " By answering these questions using the mean, median, and mode, the car\n",
    " rental company can gain insights into the average rental duration,\n",
    " understand the most common rental periods, and make informed decisions\n",
    " regarding pricing, fleet size, and availability. Additionally, this analysis\n",
    " can help the company optimize resource allocation, plan for peak demand\n",
    " periods, and enhance customer satisfaction by aligning service offerings\n",
    " with customers' typical rental needs"
   ]
  },
  {
   "cell_type": "code",
   "execution_count": 4,
   "id": "ac834264-6403-442d-abc0-088d87eec1e7",
   "metadata": {},
   "outputs": [],
   "source": [
    "import numpy as np "
   ]
  },
  {
   "cell_type": "code",
   "execution_count": 10,
   "id": "f42f69a7-c04b-4a25-ad35-91b1f7f6ae63",
   "metadata": {},
   "outputs": [],
   "source": [
    "data = [\n",
    "    3, 2, 5, 4, 7, 2, 3, 3, 1, 6, 4, 2, 3, 5, 2, 4, 2, 1, 3, 5, 6, 3, 2, 1, 4, 2, \n",
    "    4, 5, 3, 2, 7, 2, 3, 4, 5, 1, 6, 2, 4, 3, 5, 3, \n",
    "    2, 4, 2, 6, 3, 2, 4, 5     \n",
    "]"
   ]
  },
  {
   "cell_type": "code",
   "execution_count": 12,
   "id": "df269406-7b69-49f4-a1dd-b42faebf0aac",
   "metadata": {},
   "outputs": [
    {
     "data": {
      "text/plain": [
       "[3,\n",
       " 2,\n",
       " 5,\n",
       " 4,\n",
       " 7,\n",
       " 2,\n",
       " 3,\n",
       " 3,\n",
       " 1,\n",
       " 6,\n",
       " 4,\n",
       " 2,\n",
       " 3,\n",
       " 5,\n",
       " 2,\n",
       " 4,\n",
       " 2,\n",
       " 1,\n",
       " 3,\n",
       " 5,\n",
       " 6,\n",
       " 3,\n",
       " 2,\n",
       " 1,\n",
       " 4,\n",
       " 2,\n",
       " 4,\n",
       " 5,\n",
       " 3,\n",
       " 2,\n",
       " 7,\n",
       " 2,\n",
       " 3,\n",
       " 4,\n",
       " 5,\n",
       " 1,\n",
       " 6,\n",
       " 2,\n",
       " 4,\n",
       " 3,\n",
       " 5,\n",
       " 3,\n",
       " 2,\n",
       " 4,\n",
       " 2,\n",
       " 6,\n",
       " 3,\n",
       " 2,\n",
       " 4,\n",
       " 5]"
      ]
     },
     "execution_count": 12,
     "metadata": {},
     "output_type": "execute_result"
    }
   ],
   "source": [
    "data"
   ]
  },
  {
   "cell_type": "code",
   "execution_count": 14,
   "id": "3d08fd1f-987a-478f-9ae8-044f73ff32ae",
   "metadata": {},
   "outputs": [
    {
     "name": "stdout",
     "output_type": "stream",
     "text": [
      "50\n"
     ]
    }
   ],
   "source": [
    "print(len(data))"
   ]
  },
  {
   "cell_type": "code",
   "execution_count": 40,
   "id": "c82bbb6b-bbf4-4ecd-94bb-d10b2fbd68c8",
   "metadata": {},
   "outputs": [
    {
     "name": "stdout",
     "output_type": "stream",
     "text": [
      "The median of the data is:  3.44\n"
     ]
    }
   ],
   "source": [
    "# Calculating the mean :-\n",
    "from statistics import mean\n",
    "Mean_of_data = mean(data)\n",
    "\n",
    "print(f\"The median of the data is: \",Mean_of_data)"
   ]
  },
  {
   "cell_type": "code",
   "execution_count": 42,
   "id": "cf167179-61e3-4470-af32-598daf93a177",
   "metadata": {},
   "outputs": [
    {
     "data": {
      "text/plain": [
       "3.44"
      ]
     },
     "execution_count": 42,
     "metadata": {},
     "output_type": "execute_result"
    }
   ],
   "source": [
    "Mean"
   ]
  },
  {
   "cell_type": "code",
   "execution_count": 44,
   "id": "d668b7af-0408-4e70-9fb8-31b4b6e3fa4b",
   "metadata": {},
   "outputs": [
    {
     "name": "stdout",
     "output_type": "stream",
     "text": [
      "The median of the data is:  3.0\n"
     ]
    }
   ],
   "source": [
    "# Calculate median:-\n",
    "\n",
    "from statistics import median\n",
    "Median_of_data = median(data)\n",
    "\n",
    "print(f\"The median of the data is: \",Median_of_data)"
   ]
  },
  {
   "cell_type": "code",
   "execution_count": 50,
   "id": "c87b72eb-99c5-4a7b-b01d-bb9898b57020",
   "metadata": {},
   "outputs": [
    {
     "name": "stdout",
     "output_type": "stream",
     "text": [
      "The mode of the data is:  [2]\n"
     ]
    }
   ],
   "source": [
    "# Calculating mode:- \n",
    "from statistics import multimode \n",
    "\n",
    "mode_of_data = multimode(data)\n",
    "\n",
    "print(f\"The mode of the data is: \",mode_of_data)"
   ]
  },
  {
   "cell_type": "markdown",
   "id": "4e7f39f2-3520-4a3c-99b2-bf0b03584093",
   "metadata": {},
   "source": [
    "# 2.  Ane-commerce platform wants to analyze the delivery times of its shipments to\n",
    " understand the variability in order fulfillment and optimize its logistics operations.\n",
    " Data:\n",
    " Let's consider the delivery times (in days) for a sample of 50 shipments:\n",
    " 3, 5, 2, 4, 6, 2, 3, 4, 2, 5,\n",
    " 7, 2, 3, 4, 2, 4, 2, 3, 5, 6,\n",
    " 3, 2, 1, 4, 2, 4, 5, 3, 2, 7,\n",
    " 2, 3, 4, 5, 1, 6, 2, 4, 3, 5,\n",
    " 3, 2, 4, 2, 6, 3, 2, 4, 5, 3\n",
    " Questions:\n",
    " a. Range: What is the range of the delivery times?\n",
    " b. Variance: What is the variance of the delivery times?\n",
    " c. Standard Deviation: What is the standard deviation of the delivery times?\n",
    " By answering these questions using different measures of dispersion, the e\n",
    "commerce platform can gain insights into the variability in delivery times,\n",
    " identify any bottlenecks in the logistics process, and make informed decisions\n",
    " regarding shipment tracking,customer expectations, and service level agreements"
   ]
  },
  {
   "cell_type": "code",
   "execution_count": 65,
   "id": "f5bc3ef7-ddf8-47ed-9cb6-e4f555f936ba",
   "metadata": {},
   "outputs": [
    {
     "name": "stdout",
     "output_type": "stream",
     "text": [
      "[3, 5, 2, 4, 6, 2, 3, 4, 2, 5, 7, 2, 3, 4, 2, 4, 2, 3, 5, 6, 3, 2, 1, 4, 2, 4, 5, 3, 2, 7, 2, 3, 4, 5, 1, 6, 2, 4, 3, 5, 3, 2, 4, 2, 6, 3, 2, 4, 5, 3]\n",
      "The lenght of the data_items is :  50\n"
     ]
    }
   ],
   "source": [
    "# Finding range :-\n",
    "\n",
    "data_items = [\n",
    "     3, 5, 2, 4, 6, 2, 3, 4, 2, 5, 7, 2, 3, 4, 2, 4, 2, 3, 5, 6, 3, 2, \n",
    "     1, 4, 2, 4, 5, 3, 2, 7, 2, 3, 4, 5, 1, 6, 2, 4, 3, 5, 3, 2, 4, 2, \n",
    "     6, 3, 2, 4, 5, 3\n",
    "    \n",
    "]\n",
    "print(data_items)\n",
    "\n",
    "print(f\"The lenght of the data_items is : \",len(data_items))"
   ]
  },
  {
   "cell_type": "code",
   "execution_count": 69,
   "id": "1e483a5a-2932-427c-92a7-e05ab85b4c6f",
   "metadata": {},
   "outputs": [
    {
     "name": "stdout",
     "output_type": "stream",
     "text": [
      "The maximum value is:  7\n"
     ]
    }
   ],
   "source": [
    "print(f\"The maximum value is: \",max(data_items))"
   ]
  },
  {
   "cell_type": "code",
   "execution_count": 71,
   "id": "3e0617ed-c6e0-44c3-b655-a1d2e3f3376f",
   "metadata": {},
   "outputs": [
    {
     "name": "stdout",
     "output_type": "stream",
     "text": [
      "The minimum value is:  1\n"
     ]
    }
   ],
   "source": [
    "print(f\"The minimum value is: \",min(data_items))"
   ]
  },
  {
   "cell_type": "code",
   "execution_count": 73,
   "id": "4b6f3d66-fda2-4615-b739-ce20de33811c",
   "metadata": {},
   "outputs": [
    {
     "name": "stdout",
     "output_type": "stream",
     "text": [
      "The range of the delivery time is:  6\n"
     ]
    }
   ],
   "source": [
    "# Finding the range:-\n",
    "\n",
    "range_of_delivery = max(data_items) - min(data_items)\n",
    "\n",
    "print(f\"The range of the delivery time is: \",range_of_delivery)"
   ]
  },
  {
   "cell_type": "code",
   "execution_count": 77,
   "id": "c1c57228-d038-42d5-a42a-95c835dfdb13",
   "metadata": {},
   "outputs": [
    {
     "name": "stdout",
     "output_type": "stream",
     "text": [
      "The variance of the delivery item is:  2.336326530612245\n"
     ]
    }
   ],
   "source": [
    "# Variance of the data :-\n",
    "from statistics import variance\n",
    "variance_of_delivery_time = variance(data_items)\n",
    "\n",
    "print(f\"The variance of the delivery item is: \",variance_of_delivery_time)"
   ]
  },
  {
   "cell_type": "code",
   "execution_count": 85,
   "id": "6cd990ec-9289-4917-babf-6ebe409acfe4",
   "metadata": {},
   "outputs": [
    {
     "name": "stdout",
     "output_type": "stream",
     "text": [
      "The standard deviation of the delivery items is:  1.528504671439458\n"
     ]
    }
   ],
   "source": [
    "# Standard deviation:-\n",
    "\n",
    "from statistics import stdev\n",
    "std_of_delivery_times = stdev(data_items)\n",
    "\n",
    "print(f\"The standard deviation of the delivery items is: \",std_of_delivery_times)"
   ]
  },
  {
   "cell_type": "markdown",
   "id": "cff6a01e-c765-48b5-a59b-56beb2ab2c17",
   "metadata": {},
   "source": [
    "# 3.  Acompany wants to analyze the monthly revenue generated by one of its products\n",
    " to understand its performance and variability.\n",
    " Data: Let's consider the monthly revenue (in thousands of dollars) for the past 12\n",
    " months:\n",
    " $120, $150, $110, $135, $125, $140, $130, $155, $115, $145, $135, $130\n",
    " Questions:\n",
    " a. Measure of Central Tendency: What is the average monthly revenue for\n",
    " the product?\n",
    " b. Measure of Dispersion: What is the range of monthly revenue for the\n",
    " product?\n",
    "By answering these questions, the company can gain insights into the average\n",
    " revenue generated by the product and understand the range or variability in its\n",
    " monthly revenue, which can help with financial planning, forecasting, and\n",
    " evaluating the product's performance"
   ]
  },
  {
   "cell_type": "code",
   "execution_count": 92,
   "id": "82ec4ae1-fd2c-43c0-9db0-3e8cd88afb90",
   "metadata": {},
   "outputs": [
    {
     "name": "stdout",
     "output_type": "stream",
     "text": [
      "The len of the monthly revenue of the data is:  12\n"
     ]
    }
   ],
   "source": [
    "# Collectiion of the data:-\n",
    "\n",
    "monthly_revenue = [120, 150, 110, 135, 125, 140, 130, 155, 115, 145, 135, 130]\n",
    "\n",
    "print(f\"The len of the monthly revenue of the data is: \",len(monthly_revenue))"
   ]
  },
  {
   "cell_type": "code",
   "execution_count": 106,
   "id": "da3c58bb-b86d-495b-8bd8-e77c915b993a",
   "metadata": {},
   "outputs": [
    {
     "name": "stdout",
     "output_type": "stream",
     "text": [
      "The measuere of central tendanct of monthly revenue is:  132.5\n"
     ]
    }
   ],
   "source": [
    "# Finding the Montly revenue of the product:-\n",
    "measure_of_central_tendancy = mean(monthly_revenue)\n",
    "\n",
    "print(f\"The measuere of central tendanct of monthly revenue is: \",measure_of_central_tendancy)"
   ]
  },
  {
   "cell_type": "code",
   "execution_count": 108,
   "id": "80360eb0-2ca1-461d-aa5f-73ee9a61a8d1",
   "metadata": {},
   "outputs": [
    {
     "name": "stdout",
     "output_type": "stream",
     "text": [
      "The maximum value is:  155\n",
      "The minimum value is:  110\n",
      "The measure of the dispersion of monthly revenue is:  45\n"
     ]
    }
   ],
   "source": [
    "# Finding the Monhly revenue of the product:- (Measure of dispersion)\n",
    "print(f\"The maximum value is: \",max(monthly_revenue))\n",
    "print(f\"The minimum value is: \",min(monthly_revenue))\n",
    "\n",
    "measure_of_dispersion = max(monthly_revenue) - min(monthly_revenue)\n",
    "\n",
    "print(f\"The measure of the dispersion of monthly revenue is: \",measure_of_dispersion)"
   ]
  },
  {
   "cell_type": "markdown",
   "id": "db625fae-b53a-4d5f-b9ba-c833846d63fb",
   "metadata": {},
   "source": [
    "# 4. Atransportation company wants to analyze the fuel efficiency of its vehicle fleet to\n",
    " identify any variations across different vehicle models.\n",
    " Data: Let's consider the fuel efficiency (in miles per gallon, mpg) for a sample of\n",
    " 50 vehicles:\n",
    " Model A: 30, 32, 33, 28, 31, 30, 29, 30, 32, 31,\n",
    " Model B: 25, 27, 26, 23, 28, 24, 26, 25, 27, 28,\n",
    " Model C: 22, 23, 20, 25, 21, 24, 23, 22, 25, 24,\n",
    " Model D: 18, 17, 19, 20, 21, 18, 19, 17, 20, 19,\n",
    " Model E: 35, 36, 34, 35, 33, 34, 32, 33, 36, 34\n",
    " # Questions:\n",
    " a. Measure of Central Tendency: What is the average fuel efficiency for each\n",
    " vehicle model?\n",
    " b. Measure of Dispersion: What is the range of fuel efficiency for each\n",
    " vehicle model?\n",
    " c. Measure of Dispersion: What is the variance of the fuel efficiency for each\n",
    " vehicle model?\n",
    " By answering these questions, the transportation company can gain\n",
    " insights into the average fuel efficiency of different vehicle models,\n",
    " understand the variations or spread in the fuel efficiency, and make\n",
    " informed decisions regarding fleet management, vehicle selection, and fuel\n",
    " consumption optimization"
   ]
  },
  {
   "cell_type": "code",
   "execution_count": 203,
   "id": "727203c9-ac46-41be-8de1-3189fcd295c3",
   "metadata": {},
   "outputs": [
    {
     "name": "stdout",
     "output_type": "stream",
     "text": [
      "The Fuel efficiency of the data is:  {'Model A': [30, 32, 33, 28, 31, 30, 29, 30, 32, 31], 'Model B': [25, 27, 26, 23, 28, 24, 26, 25, 27, 28], 'Model C': [22, 23, 20, 25, 21, 24, 23, 22, 25, 24], 'Model D': [18, 17, 19, 20, 21, 18, 19, 17, 20, 19], 'Model E': [35, 36, 34, 35, 33, 34, 32, 33, 36, 34]}\n",
      "The length of Fuel efficiency of the data is:  5\n"
     ]
    }
   ],
   "source": [
    "# Data collection:-\n",
    "\n",
    "Fuel_Data = {\n",
    "    \"Model A\": [30, 32, 33, 28, 31, 30, 29, 30, 32, 31],\n",
    "    \"Model B\": [25, 27, 26, 23, 28, 24, 26, 25, 27, 28],\n",
    "    \"Model C\": [22, 23, 20, 25, 21, 24, 23, 22, 25, 24],\n",
    "    \"Model D\": [18, 17, 19, 20, 21, 18, 19, 17, 20, 19],\n",
    "    \"Model E\": [35, 36, 34, 35, 33, 34, 32, 33, 36, 34], \n",
    "}\n",
    "\n",
    "print(f\"The Fuel efficiency of the data is: \",Fuel_Data)\n",
    "print(f\"The length of Fuel efficiency of the data is: \",len(Fuel_Data))"
   ]
  },
  {
   "cell_type": "code",
   "execution_count": 213,
   "id": "a6ad3546-e5e5-4467-b269-207b3cf8ec86",
   "metadata": {},
   "outputs": [
    {
     "name": "stdout",
     "output_type": "stream",
     "text": [
      "Model A\n",
      "The Average effiecncy of the fuel is:  30.6\n",
      "The Range effciency of the fuel is:  5\n",
      "The Variance efficiency of the fuel is: {2.2666666666666666}\n",
      "Model B\n",
      "The Average effiecncy of the fuel is:  25.9\n",
      "The Range effciency of the fuel is:  5\n",
      "The Variance efficiency of the fuel is: {2.7666666666666666}\n",
      "Model C\n",
      "The Average effiecncy of the fuel is:  22.9\n",
      "The Range effciency of the fuel is:  5\n",
      "The Variance efficiency of the fuel is: {2.7666666666666666}\n",
      "Model D\n",
      "The Average effiecncy of the fuel is:  18.8\n",
      "The Range effciency of the fuel is:  4\n",
      "The Variance efficiency of the fuel is: {1.7333333333333334}\n",
      "Model E\n",
      "The Average effiecncy of the fuel is:  34.2\n",
      "The Range effciency of the fuel is:  4\n",
      "The Variance efficiency of the fuel is: {1.7333333333333334}\n"
     ]
    }
   ],
   "source": [
    "for model, data in Fuel_Data.items():\n",
    "    mean_of_fuel_efficiency = mean(data)\n",
    "    range_of_fuel_efficiency = max(data) - min(data)\n",
    "    var_of_fuel_efficiency = variance(data)\n",
    "\n",
    "    print(f\"{model}\")\n",
    "    print(f\"The Average effiecncy of the fuel is: \",mean_of_fuel_efficiency)\n",
    "    print(f\"The Range effciency of the fuel is: \",range_of_fuel_efficiency)\n",
    "    print(f\"The Variance efficiency of the fuel is:\",{var_of_fuel_efficiency})"
   ]
  },
  {
   "cell_type": "markdown",
   "id": "c172bbc3-d9fb-439d-b2f3-34b41bef4bd2",
   "metadata": {},
   "source": [
    "# 7. Aresearch study wants to analyze the weight distribution of a sample of\n",
    " individuals to assess their health and body composition.\n",
    " Data: Let's consider the weights (in kilograms) of a sample of 100 individuals:\n",
    " Weights:\n",
    " 55, 60, 62, 65, 68, 70, 72, 75, 78, 80, 82, 85, 88, 90, 92, 95, 100, 105, 110, 115,\n",
    " 120, 125, 130, 135, 140, 145, 150, 155, 160, 165, 170, 175, 180, 185, 190, 195,\n",
    " 200, 205, 210, 215, 220, 225, 230, 235, 240, 245, 250, 255, 260, 265, 270, 275,\n",
    " 280, 285, 290, 295, 300, 305, 310, 315, 320, 325, 330, 335, 340, 345, 350, 355,\n",
    " 360, 365, 370, 375, 380, 385, 390, 395, 400, 405, 410, 415, 420, 425, 430, 435,\n",
    " 440, 445, 450, 455, 460, 465, 470, 475, 480, 485, 490, 495, 500, 505, 510, 515\n",
    " # Questions:\n",
    " a. Quartiles: Calculate the first quartile (Q1), median (Q2), and third quartile\n",
    " (Q3) of the weight distribution.\n",
    " b. Percentiles: Calculate the 15th percentile, 50th percentile, and 85th\n",
    " percentile of the weight distribution."
   ]
  },
  {
   "cell_type": "code",
   "execution_count": 217,
   "id": "2b09a239-ce10-4af5-8104-e0c2c3bdcebd",
   "metadata": {},
   "outputs": [
    {
     "name": "stdout",
     "output_type": "stream",
     "text": [
      "The weights of the person is:  [55, 60, 62, 65, 68, 70, 72, 75, 78, 80, 82, 85, 88, 90, 92, 95, 100, 105, 110, 115, 120, 125, 130, 135, 140, 145, 150, 155, 160, 165, 170, 175, 180, 185, 190, 195, 200, 205, 210, 215, 220, 225, 230, 235, 240, 245, 250, 255, 260, 265, 270, 275, 280, 285, 290, 295, 300, 305, 310, 315, 320, 325, 330, 335, 340, 345, 350, 355, 360, 365, 370, 375, 380, 385, 390, 395, 400, 405, 410, 415, 420, 425, 430, 435, 440, 445, 450, 455, 460, 465, 470, 475, 480, 485, 490, 495, 500, 505, 510, 515]\n"
     ]
    }
   ],
   "source": [
    "import numpy as np\n",
    "\n",
    "weights = [\n",
    "    55, 60, 62, 65, 68, 70, 72, 75, 78, 80, 82, 85, 88, 90, 92, 95, 100, 105, 110, 115, 120, 125, 130, \n",
    "    135, 140, 145, 150, 155, 160, 165, 170, 175, 180, 185, 190, 195, 200, 205, 210, 215, 220, 225, 230, \n",
    "    235, 240, 245, 250, 255, 260, 265, 270, 275, 280, 285, 290, 295, 300, 305, 310, 315, 320, 325, 330, \n",
    "    335, 340, 345, 350, 355, 360, 365, 370, 375, 380, 385, 390, 395, 400, 405, 410, 415, 420, 425, 430, \n",
    "    435, 440, 445, 450, 455, 460, 465, 470, 475, 480, 485, 490, 495, 500, 505, 510, 515\n",
    "]\n",
    "print(f\"The weights of the person is: \",weights)"
   ]
  },
  {
   "cell_type": "code",
   "execution_count": 219,
   "id": "20861446-a20f-4ece-9565-49bd17d16bdf",
   "metadata": {},
   "outputs": [
    {
     "name": "stdout",
     "output_type": "stream",
     "text": [
      "The length of the weight is:  100\n"
     ]
    }
   ],
   "source": [
    "print(f\"The length of the weight is: \",len(weights))"
   ]
  },
  {
   "cell_type": "code",
   "execution_count": 253,
   "id": "8663ca4b-9efb-4474-a100-3803386d2d21",
   "metadata": {},
   "outputs": [
    {
     "name": "stdout",
     "output_type": "stream",
     "text": [
      "The Quartile of the Q1 is:  143.75\n",
      "The Quartile range of Q2 is:  267.5\n",
      "The Quartile range of Q3 is:  391.25\n"
     ]
    }
   ],
   "source": [
    "# To find the Quartiles:-\n",
    "\n",
    "Quartile_1 = np.percentile(weights,25)\n",
    "Quartile_2 = np.percentile(weights,50)\n",
    "Quartile_3 = np.percentile(weights,75)\n",
    "\n",
    "print(f\"The Quartile of the Q1 is: \",Quartile_1)\n",
    "print(f\"The Quartile range of Q2 is: \",Quartile_2)\n",
    "print(f\"The Quartile range of Q3 is: \",Quartile_3)"
   ]
  },
  {
   "cell_type": "code",
   "execution_count": 259,
   "id": "2ea12bc3-16ef-4ea5-a706-1262f5c75814",
   "metadata": {},
   "outputs": [
    {
     "name": "stdout",
     "output_type": "stream",
     "text": [
      "The percentile of P15 is:  94.55\n",
      "The percentile of p85 is: 440.74999999999994\n"
     ]
    }
   ],
   "source": [
    "# Findind the percentiles of teh 15th, 50th, 85th:-\n",
    "\n",
    "Percentile_15 = np.percentile(weights,15)\n",
    "Percentile_85 = np.percentile(weights,85)\n",
    "\n",
    "print(f\"The percentile of P15 is: \",Percentile_15)\n",
    "print(f\"The percentile of p85 is: {Percentile_85}\")"
   ]
  },
  {
   "cell_type": "markdown",
   "id": "e94d9668-04be-497b-b91e-aa6ed863bc49",
   "metadata": {},
   "source": [
    "#  Aresearcher wants to examine the relationship between the hours spent studying\n",
    " and the exam scores of a group of students.\n",
    " Data: Let's consider the number of hours spent studying and the corresponding\n",
    " exam scores for a sample of 30 students:\n",
    " Hours Spent Studying: 10, 12, 15, 18, 20, 22, 25, 28, 30, 32, 35, 38, 40, 42, 45, 48,\n",
    " 50, 52, 55, 58, 60, 62, 65, 68, 70, 72, 75, 78, 80, 82 Exam Scores: 60, 65, 70, 75,\n",
    " 80, 82, 85, 88, 90, 92, 93, 95, 96, 97, 98, 99, 100, 102, 105, 106, 107, 108, 110,\n",
    " 112, 114, 115, 116, 118, 120, 122\n",
    " \n",
    "# Question:\n",
    "Calculate the correlation coefficient between the hours spent studying and the\n",
    " exam scores. Interpret the value of the correlation coefficient and explain the\n",
    " nature of the relationship between studying hours and exam scores.\n",
    " By analyzing the correlation coefficient, the researcher can determine the strength and\n",
    " direction of the relationship between studying hours and exam scores. This information\n",
    " can provide insights into the effectiveness of studying and help students and educators\n",
    " make informed decisions about study habits and academic performance"
   ]
  },
  {
   "cell_type": "code",
   "execution_count": 1,
   "id": "fd148984-29f0-4969-b574-cfb01bcdb2c7",
   "metadata": {},
   "outputs": [],
   "source": [
    "import numpy as np"
   ]
  },
  {
   "cell_type": "code",
   "execution_count": 4,
   "id": "5dbcb97e-c671-4cb9-81f4-a42320795d2c",
   "metadata": {},
   "outputs": [],
   "source": [
    "Hours_in_studying = [10, 12, 15, 18, 20, 22, 25, 28, 30, 32, 35, 38, 40, 42, 45, 48, 50, 52, 55, 58, 60, 62, 65, 68, 70, 72, 75, 78, 80, 82]\n",
    "\n",
    "Exam_Scores = [60, 65, 70, 75, 80, 82, 85, 88, 90, 92, 93, 95, 96, 97, 98, 99, 100, 102, 105, 106, 107, 108, 110, 112, 114, 115, 116, 118, 120, 122]"
   ]
  },
  {
   "cell_type": "code",
   "execution_count": 6,
   "id": "e8864e5a-b4db-4ee2-aff4-a6a2ad992d7c",
   "metadata": {},
   "outputs": [
    {
     "name": "stdout",
     "output_type": "stream",
     "text": [
      "The Hours spent in the studying is:  [10, 12, 15, 18, 20, 22, 25, 28, 30, 32, 35, 38, 40, 42, 45, 48, 50, 52, 55, 58, 60, 62, 65, 68, 70, 72, 75, 78, 80, 82]\n"
     ]
    }
   ],
   "source": [
    "print(f\"The Hours spent in the studying is: \",Hours_in_studying)"
   ]
  },
  {
   "cell_type": "code",
   "execution_count": 8,
   "id": "4c1d18e5-614f-492d-ae83-0283bf3d4d4a",
   "metadata": {},
   "outputs": [
    {
     "name": "stdout",
     "output_type": "stream",
     "text": [
      "The student exam score is:  [60, 65, 70, 75, 80, 82, 85, 88, 90, 92, 93, 95, 96, 97, 98, 99, 100, 102, 105, 106, 107, 108, 110, 112, 114, 115, 116, 118, 120, 122]\n"
     ]
    }
   ],
   "source": [
    "print(f\"The student exam score is: \",Exam_Scores)"
   ]
  },
  {
   "cell_type": "code",
   "execution_count": 36,
   "id": "86f769c4-49eb-431c-a52a-79bf55f4a46a",
   "metadata": {},
   "outputs": [
    {
     "name": "stdout",
     "output_type": "stream",
     "text": [
      "The Coorelation between the Hourse of study and the Exam Scores is: 0.977\n"
     ]
    }
   ],
   "source": [
    "# Finding the coeff. of correlation:-\n",
    "\n",
    "coorelation = np.corrcoef(Hours_in_studying,Exam_Scores)[0,1]\n",
    "print(f\"The Coorelation between the Hourse of study and the Exam Scores is: {coorelation:.3f}\")"
   ]
  },
  {
   "cell_type": "code",
   "execution_count": 44,
   "id": "86369385-92dd-44ee-87e1-e71e3d89fc3f",
   "metadata": {},
   "outputs": [
    {
     "name": "stdout",
     "output_type": "stream",
     "text": [
      "____The Interpretatiion of the students in the exams is: ____\n",
      "The student is very strong in the study !\n"
     ]
    }
   ],
   "source": [
    "# Dertermining the interpretation between the Hours and the Exam Scores:-\n",
    "    \n",
    "def interpretation_of_Hours_and_study(corr):\n",
    "    print(\"____The Interpretatiion of the students in the exams is: ____\")\n",
    "    if corr>0.9:\n",
    "        print(f\"The student is very strong in the study !\")\n",
    "    elif corr>0.8:\n",
    "        print(f\"The student is strong !\")\n",
    "    elif corr>0.6:\n",
    "        print(f\"The student is average in the studies !\")\n",
    "    else:\n",
    "        print(f\"The student is very poor and need the improvement in the studies !!\")\n",
    "\n",
    "interpretation_of_Hours_and_study(coorelation)"
   ]
  },
  {
   "cell_type": "markdown",
   "id": "1f677d0a-e2f3-44a1-a34a-6c97ad5f0a7c",
   "metadata": {},
   "source": [
    "# 8. A multiple-choice test consists of 10 questions, each with four possible answers. \n",
    " If a student randomly guesses on each question, what is the probability of getting at least 8 questions correct? Data: Number of questions (n) =    10,Number of possible answers per question (k) = 4"
   ]
  },
  {
   "cell_type": "code",
   "execution_count": 69,
   "id": "679de269-c5ec-4f2b-a00f-fe3a3b5be5d3",
   "metadata": {},
   "outputs": [
    {
     "name": "stdout",
     "output_type": "stream",
     "text": [
      "The Prob of atleast 8 correct answer out of 10 questions is: 0.00041580\n"
     ]
    }
   ],
   "source": [
    "from scipy.stats import binom\n",
    "n = 10\n",
    "p = 1/4\n",
    "\n",
    "# Using binomial distribution:-\n",
    "prob_8 = binom.pmf(8,n,p)\n",
    "prob_9 = binom.pmf(9,n,p)\n",
    "prob_10 = binom.pmf(10,n,p)\n",
    "\n",
    "# finding the probabitlity of teh atleast 8 correct ans out of the 10:-\n",
    "prob_of_atleast_8 = prob_8 + prob_9 + prob_10\n",
    "\n",
    "print(f\"The Prob of atleast 8 correct answer out of 10 questions is: {prob_of_atleast_8:.8f}\")"
   ]
  },
  {
   "cell_type": "markdown",
   "id": "e08d5586-c1a8-49f7-8c54-7a39776693ca",
   "metadata": {},
   "source": [
    "# 9.  The lifetimes of a certain brand of light bulbs are normally distributed with a \n",
    "mean of 1000 hours and a standard deviation of 100 hours. What is the probability that a randomly selected light bulb lasts between 900 and 1100 hours? Data: Mean lifetime (μ) = 1000 hours, Standard deviation (σ) = 100 hours, Lifetime range (lower limit x1, upper limit x2)"
   ]
  },
  {
   "cell_type": "code",
   "execution_count": 80,
   "id": "e0413ecf-4b57-4be2-91db-7e2d96bfcd01",
   "metadata": {},
   "outputs": [],
   "source": [
    "import numpy as np\n",
    "from scipy.stats import norm"
   ]
  },
  {
   "cell_type": "code",
   "execution_count": 86,
   "id": "e9140ad3-5b2a-4a8c-9b36-f766f9e8c56c",
   "metadata": {},
   "outputs": [
    {
     "name": "stdout",
     "output_type": "stream",
     "text": [
      "The Probability of the randomly selected bulbs is: 0.68269\n"
     ]
    }
   ],
   "source": [
    "mean = 1000\n",
    "sd = 100\n",
    "x1=900\n",
    "x2=1100\n",
    "\n",
    "cdf_x1 = norm.cdf(x1,loc=mean,scale=sd)\n",
    "cdf_x2 = norm.cdf(x2,loc=mean,scale=sd)\n",
    "diff_between = cdf_x2 - cdf_x1\n",
    "\n",
    "print(f\"The Probability of the randomly selected bulbs is: {diff_between:.5f}\")"
   ]
  },
  {
   "cell_type": "markdown",
   "id": "8f989813-66a3-4d47-b003-a7e75acb696d",
   "metadata": {},
   "source": [
    "# 10.  A study is conducted to estimate the mean height of a population. A random sample\n",
    " of 100 individuals is selected, and their heights are measured. Calculate a 95%\n",
    " confidence interval for the population mean height, given that the sample mean\n",
    " height is 170 cm and the sample standard deviation is 8 cm. Data: Sample size (n) =\n",
    " 100, Sample mean (x) = 170 cm, Sample standard deviation (s) = 8 cm, Confidence\n",
    " level = 95%\n",
    "\n",
    " Explanation: In this problem, we use a sample to estimate the population mean\n",
    " height. By calculating a confidence interval, we provide a range of plausible\n",
    " values for the population mean. The 95% confidence level indicates that we are\n",
    " 95% confident that the true population mean height falls within the calculated\n",
    " interval."
   ]
  },
  {
   "cell_type": "code",
   "execution_count": 109,
   "id": "08f10723-1718-4784-b836-0f0193063bac",
   "metadata": {},
   "outputs": [
    {
     "name": "stdout",
     "output_type": "stream",
     "text": [
      "The Confidance interval population of CI_1 is: 171.3159\n",
      "The confidance interval population of CI_2 is: 168.6841\n"
     ]
    }
   ],
   "source": [
    "import math \n",
    "\n",
    "n=100 \n",
    "s_mean = 170\n",
    "s_d = 8\n",
    "CI=0.95\n",
    "\n",
    "# Calculating the critical value:-\n",
    "z_critical = norm.ppf(0.95)\n",
    "\n",
    "# Calculating the Std error:-\n",
    "S_E = s_d / math.sqrt(n)\n",
    "\n",
    "# Calculating the Marginal Error:-\n",
    "M_E = z_critical * S_E\n",
    "\n",
    "# Calculating the Confidance interval:-\n",
    "CI_1 = s_mean + M_E\n",
    "CI_2 = s_mean - M_E\n",
    "\n",
    "print(f\"The Confidance interval population of CI_1 is: {CI_1:.4F}\")\n",
    "print(f\"The confidance interval population of CI_2 is: {CI_2:.4f}\")"
   ]
  },
  {
   "cell_type": "markdown",
   "id": "2a3b864a-419c-4cbf-9123-58265a5dea70",
   "metadata": {},
   "source": [
    "# 11.  A manufacturing company claims that the average weight of its product is 500\n",
    " grams. To test this claim, a random sample of 25 products is selected, and their\n",
    " weights are measured. The sample mean weight is found to be 510 grams with a\n",
    " sample standard deviation of 20 grams. Perform a hypothesis test to determine if\n",
    " there is evidence to support the company's claim. Data: Sample size (n) = 25,\n",
    " Sample mean (x) = 510 grams, Sample standard deviation (s) = 20 grams,\n",
    " Population mean (μ) = 500 grams\n",
    "Explanation: In this problem, we are conducting a hypothesis test to assess\n",
    " whether the sample mean weight provides evidence to support the company's\n",
    " claim about the population mean weight. The null hypothesis (H0) assumes that\n",
    " the population mean weight is equal to the claimed value, while the alternative\n",
    " hypothesis (Ha) suggests otherwise"
   ]
  },
  {
   "cell_type": "code",
   "execution_count": 112,
   "id": "edb300c6-ee10-4405-afd5-bd4e46118d9c",
   "metadata": {},
   "outputs": [],
   "source": [
    "import math \n",
    "from scipy.stats import t"
   ]
  },
  {
   "cell_type": "code",
   "execution_count": 130,
   "id": "a21d83e6-baf5-4338-a0b0-8dd095cf2201",
   "metadata": {},
   "outputs": [
    {
     "name": "stdout",
     "output_type": "stream",
     "text": [
      "The Std Error is:  4.0\n",
      "The Density Function is:  24\n",
      "The T_test value is:  2.5\n",
      "The Probability value is: 0.019654 \n"
     ]
    }
   ],
   "source": [
    "n=25\n",
    "s_mean = 510\n",
    "sd=20\n",
    "p_mean = 500\n",
    "alpha = 0.05\n",
    "\n",
    "# Finding the Standard Error:-\n",
    "S_E = sd / math.sqrt(n)\n",
    "\n",
    "# Calculating the Density Function:-\n",
    "D_F = n-1\n",
    "\n",
    "# Finding the T_test:-\n",
    "T_test = (s_mean - p_mean) / S_E\n",
    "\n",
    "# Finding the Prob value:-\n",
    "Prob_value = 2 * (1-t.cdf(abs(T_test),D_F))\n",
    "\n",
    "print(f\"The Std Error is: \",S_E)\n",
    "print(f\"The Density Function is: \",D_F)\n",
    "print(f\"The T_test value is: \",T_test)\n",
    "print(f\"The Probability value is: {Prob_value:.6f} \")"
   ]
  },
  {
   "cell_type": "code",
   "execution_count": 134,
   "id": "4e3d8471-2ad2-46ae-beca-cecc8b97da19",
   "metadata": {},
   "outputs": [
    {
     "name": "stdout",
     "output_type": "stream",
     "text": [
      "0.01965417511657863 is less than 0.05 Hence - Null Hypo Rejected !!\n"
     ]
    }
   ],
   "source": [
    "# To check whether to Reject the Hypo or Accept the Hypo:-\n",
    "\n",
    "if (Prob_value) >= 0.05:\n",
    "    print(f\"{Prob_value}-Null Hypo Accepted !!\")\n",
    "else:\n",
    "    print(f\"{Prob_value} is less than 0.05 Hence - Null Hypo Rejected !!\")"
   ]
  },
  {
   "cell_type": "markdown",
   "id": "96381324-535b-4337-82cb-c30183d8f3dc",
   "metadata": {},
   "source": [
    "# 12. A researcher wants to test whether a new teaching method improves student\n",
    " performance. A random sample of 50 students is divided into two groups: one group\n",
    " taught using the new method and the other using the traditional method. The average\n",
    " test scores of the two groups are compared. State the null and alternative hypotheses\n",
    " for this study. Data: Sample size (n) = 50, Test scores of the two groups\n",
    " Explanation: In this problem, we are interested in comparing the means of two\n",
    " groups (new method vs. traditional method). The null hypothesis (H0) states that\n",
    " there is no significant difference between the means, while the alternative\n",
    " hypothesis (Ha) suggests that there is a significant difference"
   ]
  },
  {
   "cell_type": "code",
   "execution_count": 28,
   "id": "35002450-f581-4795-92ac-a222fdd14508",
   "metadata": {},
   "outputs": [
    {
     "name": "stdout",
     "output_type": "stream",
     "text": [
      "The Prob value -2.1774228246206513 is: -2.1774\n",
      "The ttest value 0.03803355240929681 is: 0.0380\n",
      "Reject the Null Hypothesis as -2.1774228246206513 is less than 0.05\n"
     ]
    }
   ],
   "source": [
    "# taking the data:-\n",
    "import scipy.stats as stats\n",
    "\n",
    "taught_method = [34,45,55,76,77,38,49,63,55,69,87,39,58,76,72]\n",
    "traditional_method = [89,98,49,87,69,94,59,63,87,67,39,41,91,92,87]\n",
    "\n",
    "alpha  = 0.05\n",
    "\n",
    "# Findind and comparing the taught and traditional method data usign the t-test..\n",
    "prob_value,ttest_value = stats.ttest_ind(taught_method,traditional_method)\n",
    "\n",
    "print(f\"The Prob value {prob_value} is: {prob_value:.4f}\")\n",
    "print(f\"The ttest value {ttest_value} is: {ttest_value:.4f}\")\n",
    "\n",
    "# cehcking and deciding about the null and alternative hypothesis:-\n",
    "if prob_value < alpha:\n",
    "    print(f\"Reject the Null Hypothesis as {prob_value} is less than {alpha}\")\n",
    "else:\n",
    "    print(f\"Accept the Null Hypo as {prob_value} is Greater than or equal to {alpha} !!\")"
   ]
  },
  {
   "cell_type": "markdown",
   "id": "13a94fbf-7761-478f-8327-dc137564bc42",
   "metadata": {},
   "source": [
    "# 13: A survey is conducted to estimate the proportion of people in a city who support a\n",
    " particular policy. A random sample of 500 individuals is surveyed, and 320 of them\n",
    " express support for the policy. Calculate a 90% confidence interval for the\n",
    " population proportion, given the sample proportion. Data: Sample size (n) = 500,\n",
    " Number of successes (x) = 320, Confidence level = 90%\n",
    " Explanation: In this problem, we aim to estimate the population proportion based\n",
    " on the sample proportion. By constructing a confidence interval, we provide a\n",
    " range of plausible values for the population proportion. The 90% confidence level\n",
    " indicates that we are 90% confident that the true population proportion falls\n",
    " within the calculated interval."
   ]
  },
  {
   "cell_type": "code",
   "execution_count": 11,
   "id": "d51ed8f0-0912-47fd-b1df-21e6632982af",
   "metadata": {},
   "outputs": [
    {
     "name": "stdout",
     "output_type": "stream",
     "text": [
      "The policy supported people are: 0.6400\n",
      "The std error is: 0.0215\n",
      "The z-critical value is: 1.6449\n",
      "The Marginal Error is: 0.0353\n",
      "The Confidance interval for the population 1 is : 0.6753\n",
      "The confidance interval for the population 2 is : 0.6047\n"
     ]
    }
   ],
   "source": [
    "import math \n",
    "import scipy.stats as stats\n",
    "from scipy.stats import norm\n",
    "\n",
    "n=500\n",
    "policy_supported=320\n",
    "CI=0.9\n",
    "\n",
    "# Finding the population value given the supportive value:-\n",
    "p = policy_supported / n\n",
    "print(f\"The policy supported people are: {p:.4f}\")\n",
    "\n",
    "# Calculate the Std error:-\n",
    "\n",
    "S_E = math.sqrt(p*(1-p)/n)\n",
    "print(f\"The std error is: {S_E:.4f}\")\n",
    "\n",
    "# Finding the Marginal error:-\n",
    "alpha=1-CI\n",
    "z_critical = norm.ppf(1-alpha/2)\n",
    "print(f\"The z-critical value is: {z_critical:.4f}\")\n",
    "\n",
    "# Calculating the Marginal Error:-\n",
    "M_E = z_critical * S_E\n",
    "print(f\"The Marginal Error is: {M_E:.4f}\")\n",
    "\n",
    "# Calculating the C_I For the 90% interval for the population proportion:-\n",
    "ci_1 = p + M_E\n",
    "ci_2 = p - M_E\n",
    "print(f\"The Confidance interval for the population 1 is : {ci_1:.4f}\")\n",
    "print(f\"The confidance interval for the population 2 is : {ci_2:.4f}\")"
   ]
  },
  {
   "cell_type": "markdown",
   "id": "b3912b45-c35b-4377-bc05-a9e3c92cca56",
   "metadata": {},
   "source": [
    "# 14. A company sells smartphones, and the number of defects per batch follows a\n",
    "Poisson distribution with a mean of 2 defects. What is the probability of having exactly 3 defects in a randomly selected batch? Data: Mean number of defects (λ) = 2, Number of defects (x) = 3 Explanation: The problem involves a discrete distribution (Poisson) because we are dealing with the count of defects in a batch of smartphones. The Poisson distribution models the probability of a given number of events occurring within a fixed interval of time or space."
   ]
  },
  {
   "cell_type": "code",
   "execution_count": 20,
   "id": "bbc17352-c7e5-4d03-8fb7-224088f4bdf1",
   "metadata": {},
   "outputs": [
    {
     "name": "stdout",
     "output_type": "stream",
     "text": [
      "The poison distribution is: 0.1804\n"
     ]
    }
   ],
   "source": [
    "from scipy.stats import poisson\n",
    "\n",
    "mean = 2\n",
    "x=3\n",
    "\n",
    "poison_distribution = poisson.pmf(x,mean)\n",
    "\n",
    "print(f\"The poison distribution is: {poison_distribution:.4f}\")"
   ]
  },
  {
   "cell_type": "code",
   "execution_count": null,
   "id": "c91ca798-68cd-4f4e-b859-5fc1a78e7454",
   "metadata": {},
   "outputs": [],
   "source": []
  }
 ],
 "metadata": {
  "kernelspec": {
   "display_name": "Python [conda env:base] *",
   "language": "python",
   "name": "conda-base-py"
  },
  "language_info": {
   "codemirror_mode": {
    "name": "ipython",
    "version": 3
   },
   "file_extension": ".py",
   "mimetype": "text/x-python",
   "name": "python",
   "nbconvert_exporter": "python",
   "pygments_lexer": "ipython3",
   "version": "3.12.7"
  }
 },
 "nbformat": 4,
 "nbformat_minor": 5
}
