{
 "cells": [
  {
   "cell_type": "markdown",
   "id": "e6fd1203-2b03-4371-8d8a-c917d8ca0286",
   "metadata": {},
   "source": [
    " # 1.  Problem: A fair six-sided die is rolled 100 times. What is the probability of rolling exactly five 3's?\n",
    " Data: Number of rolls (n) = 100"
   ]
  },
  {
   "cell_type": "code",
   "execution_count": 11,
   "id": "11a644e4-c923-49e0-a596-8329d72f3ad1",
   "metadata": {},
   "outputs": [
    {
     "name": "stdout",
     "output_type": "stream",
     "text": [
      "The Prob of rolling the exactly 5 3's is: 0.000291\n"
     ]
    }
   ],
   "source": [
    "from scipy.stats import binom\n",
    "\n",
    "n=100\n",
    "p=1/6\n",
    "k=5\n",
    "# Binomial Distribution:-\n",
    "prob = binom.pmf(k,n,p)\n",
    "print(f\"The Prob of rolling the exactly 5 3's is: {prob:.6f}\")"
   ]
  },
  {
   "cell_type": "markdown",
   "id": "930cf1fc-7b06-4422-a3a4-0d128770c6b8",
   "metadata": {},
   "source": [
    "# 2. Problem: In a deck of 52 playing cards, five cards are randomly drawn without replacement. What is the probability of getting two hearts?\n",
    "\n",
    "Data: Number of hearts in the deck (N) = 13, Number of cards drawn (n) = 5"
   ]
  },
  {
   "cell_type": "code",
   "execution_count": 34,
   "id": "c157b438-3a11-4ecb-990e-5f3fcf405ce3",
   "metadata": {},
   "outputs": [
    {
     "name": "stdout",
     "output_type": "stream",
     "text": [
      "The prob of getting the two hearts is: 0.27428\n"
     ]
    }
   ],
   "source": [
    "from math import comb\n",
    "N=52\n",
    "n=5\n",
    "total_Hearts = 13\n",
    "two_hearts = 2 \n",
    "\n",
    "num = comb(total_Hearts,two_hearts)*comb(N-total_Hearts,n-two_hearts)\n",
    "deno = comb(N,n)\n",
    "\n",
    "prob_of_getting_two_hearts = num/deno\n",
    "\n",
    "print(f\"The prob of getting the two hearts is: {prob_of_getting_two_hearts:.5f}\")"
   ]
  },
  {
   "cell_type": "markdown",
   "id": "753c26de-3c82-4476-b301-453d58cef5ee",
   "metadata": {},
   "source": [
    "# 3.  Problem: A multiple-choice test consists of 10 questions, each with four possible answers. If a student randomly guesses on each question, what is the probability of getting at least 8 questions correct?\n",
    " Data: Number of questions (n) = 10, Number of possible answers per question (k) = 4"
   ]
  },
  {
   "cell_type": "code",
   "execution_count": 41,
   "id": "1725c3c0-dc37-46c5-a59e-215f30a4258a",
   "metadata": {},
   "outputs": [
    {
     "name": "stdout",
     "output_type": "stream",
     "text": [
      "The prob of getting atleast 8 questions correct is: 0.000416\n"
     ]
    }
   ],
   "source": [
    "n=10\n",
    "p=1/4\n",
    "\n",
    "# Usiing the binomial distrubution:- \n",
    "\n",
    "prob = binom.pmf(8,n,p) + binom.pmf(9,n,p) + binom.pmf(10,n,p)\n",
    "print(f\"The prob of getting atleast 8 questions correct is: {prob:.6f}\")"
   ]
  },
  {
   "cell_type": "markdown",
   "id": "89020ead-6c21-47a0-8a54-47dbf66f290f",
   "metadata": {},
   "source": [
    "# 4. . Problem: A bag contains 30 red balls, 20 blue balls, and 10 green balls. Three balls are drawn without replacement. What is the probability that all three balls are blue?\n",
    " Data: Number of blue balls in the bag (N) = 20, Number of balls drawn (n) = 3"
   ]
  },
  {
   "cell_type": "code",
   "execution_count": 49,
   "id": "79d603a2-58d9-4c1e-a4e4-b43409c86552",
   "metadata": {},
   "outputs": [
    {
     "name": "stdout",
     "output_type": "stream",
     "text": [
      "The Probability of getting all 3 balls blue is: 0.03331\n"
     ]
    }
   ],
   "source": [
    "N=60\n",
    "n=3\n",
    "K=20\n",
    "k=3\n",
    "\n",
    "# Using the hypergeometric rule:-\n",
    "num = comb(K,k)*comb(N-K,n-k)\n",
    "deno = comb(N,n)\n",
    "\n",
    "Probability = num / deno\n",
    "print(f\"The Probability of getting all 3 balls blue is: {Probability:.5f}\")"
   ]
  },
  {
   "cell_type": "markdown",
   "id": "37b260ab-e09b-4497-81bf-e013c8203835",
   "metadata": {},
   "source": [
    "# 5. Problem: In a football match, a player scores a goal with a 0.3 probability per shot. If the player takes 10 shots, what is the probability of scoring exactly three goals?\n",
    "\n",
    "Data: Number of shots (n) = 10, Probability of scoring per shot (p) = 0.3"
   ]
  },
  {
   "cell_type": "code",
   "execution_count": 54,
   "id": "b1705e1f-845b-423c-b37c-78dea2bbd0d6",
   "metadata": {},
   "outputs": [
    {
     "name": "stdout",
     "output_type": "stream",
     "text": [
      "The prob of scoring exactly 3 goals is: 0.26683\n"
     ]
    }
   ],
   "source": [
    "n=10 \n",
    "p=0.3\n",
    "k=3\n",
    "\n",
    "prob = binom.pmf(k,n,p)\n",
    "print(f\"The prob of scoring exactly 3 goals is: {prob:.5f}\")"
   ]
  },
  {
   "cell_type": "markdown",
   "id": "2bc5cbf4-fabb-4282-b751-321041386363",
   "metadata": {},
   "source": [
    "# 6. Problem: The heights of students in a class are normally distributed with a mean of 165 cm and a standard deviation of 10 cm. What is the probability that a randomly selected student is taller than 180 cm?\n",
    " Data: Mean height (μ) = 165 cm, Standard deviation (σ) = 10 cm, Height threshold (x)\n",
    " = 180 cm"
   ]
  },
  {
   "cell_type": "code",
   "execution_count": 5,
   "id": "2e8675e4-662b-4278-a9c3-ff2d48710883",
   "metadata": {},
   "outputs": [
    {
     "name": "stdout",
     "output_type": "stream",
     "text": [
      "The prob that randomly selected student taller than 180cm is: 0.06681\n"
     ]
    }
   ],
   "source": [
    "from scipy.stats import norm \n",
    "mean = 165 \n",
    "s_d = 10\n",
    "x=180\n",
    "\n",
    "# Using the z-normal distribution:-\n",
    "prob = 1-norm.cdf(x,loc=mean,scale=s_d)\n",
    "print(f\"The prob that randomly selected student taller than 180cm is: {prob:.5f}\")"
   ]
  },
  {
   "cell_type": "markdown",
   "id": "c96e9092-629e-4ea1-841e-1c33974eeb90",
   "metadata": {},
   "source": [
    "# 7. Problem: The waiting times at a coffee shop are exponentially distributed with a mean of 5 minutes. What is the probability that a customer waits less than 3 minutes?\n",
    " Data: Mean waiting time (μ) = 5 minutes, Waiting time threshold (x) = 3 minutes "
   ]
  },
  {
   "cell_type": "code",
   "execution_count": 18,
   "id": "f124f20a-cbac-46cb-85be-2c238f051a67",
   "metadata": {},
   "outputs": [
    {
     "name": "stdout",
     "output_type": "stream",
     "text": [
      "The prob of waiting time for a customer for less than 3 min is: 0.4512\n"
     ]
    }
   ],
   "source": [
    "from scipy.stats import expon\n",
    "mean = 5\n",
    "x=3\n",
    "\n",
    "# Uing the exponential distribution function:-\n",
    "prob = expon.cdf(x,scale=mean)\n",
    "print(f\"The prob of waiting time for a customer for less than 3 min is: {prob:.4f}\")"
   ]
  },
  {
   "cell_type": "markdown",
   "id": "df357f84-1fb0-4ecd-98db-4c1e2679b4d5",
   "metadata": {},
   "source": [
    "# 8. Problem: The lifetimes of a certain brand of light bulbs are normally distributed with amean of 1000 hours and a standard deviation of 100 hours. What is the probability thata randomly selected light bulb lasts between 900 and 1100 hours?\n",
    "Data: Mean lifetime (μ) = 1000 hours, Standard deviation (σ) = 100 hours, Lifetime\n",
    " range (lower limit x1, upper limit x2)"
   ]
  },
  {
   "cell_type": "code",
   "execution_count": 26,
   "id": "e650c61d-d0ba-4f80-a886-00b406fe29ad",
   "metadata": {},
   "outputs": [
    {
     "name": "stdout",
     "output_type": "stream",
     "text": [
      "The prob of the light bulbs in lower limit is: 0.8413\n",
      "The prob of the light bulbs in the upper limit is: 0.1587\n",
      "The prob of randomly selected light bulbs lasting between 900 and 1100 is: 0.6827\n"
     ]
    }
   ],
   "source": [
    "mean = 1000 \n",
    "s_d = 100\n",
    "x1=900\n",
    "x2=1100\n",
    "\n",
    "lower_limit = 1-norm.cdf(x1,loc=mean,scale=s_d)\n",
    "upper_limit = 1-norm.cdf(x2,loc=mean, scale=s_d)\n",
    "\n",
    "prob = lower_limit - upper_limit\n",
    "\n",
    "print(f\"The prob of the light bulbs in lower limit is: {lower_limit:.4f}\")\n",
    "print(f\"The prob of the light bulbs in the upper limit is: {upper_limit:.4f}\")\n",
    "print(f\"The prob of randomly selected light bulbs lasting between 900 and 1100 is: {prob:.4f}\")"
   ]
  },
  {
   "cell_type": "markdown",
   "id": "5414313f-95f1-4dc2-83fd-76074b6d2f59",
   "metadata": {},
   "source": [
    "# 9. Problem: The weights of apples in a basket follow a uniform distribution between 100 grams and 200 grams. What is the probability that a randomly selected apple weighs between 150 and 170 grams?\n",
    " Data: Weight range (lower limit x1, upper limit x2)"
   ]
  },
  {
   "cell_type": "code",
   "execution_count": 39,
   "id": "b3feee5a-0661-49b9-bdc8-87fac3474863",
   "metadata": {},
   "outputs": [
    {
     "name": "stdout",
     "output_type": "stream",
     "text": [
      "The Prob of the randomly selected apples weighs between the 150 and 170 grams is: 0.2000\n"
     ]
    }
   ],
   "source": [
    "from scipy.stats import uniform\n",
    "a=100\n",
    "b=200\n",
    "x1=150\n",
    "x2=170\n",
    "\n",
    "# using the uniform distribution:-\n",
    "u_d = uniform(loc=a,scale=b-a)\n",
    "# Using the random distribution to find the probability:-(cdf)\n",
    "prob = u_d.cdf(x2) - u_d.cdf(x1)\n",
    "\n",
    "print(f\"The Prob of the randomly selected apples weighs between the 150 and 170 grams is: {prob:.4f}\")"
   ]
  },
  {
   "cell_type": "markdown",
   "id": "34357f8e-5096-4a0f-a840-01b475acdda6",
   "metadata": {},
   "source": [
    "# 10.  Problem: The time taken to complete a task is exponentially distributed with a mean of 20 minutes. What is the probability that the task is completed in less than 15 minutes?\n",
    " Data: Mean time (μ) = 20 minutes, Time threshold (x) = 15 minutes"
   ]
  },
  {
   "cell_type": "code",
   "execution_count": 46,
   "id": "4bee7021-93d7-4468-8a3e-a320e78de239",
   "metadata": {},
   "outputs": [
    {
     "name": "stdout",
     "output_type": "stream",
     "text": [
      "The prob of the task completed less than 15 min is: 0.5276\n"
     ]
    }
   ],
   "source": [
    "mean = 20\n",
    "x=15\n",
    "\n",
    "# Using the exponential prob deistribuition funciton:-\n",
    "prob = expon.cdf(x,scale=mean)\n",
    "print(f\"The prob of the task completed less than 15 min is: {prob:.4f}\")"
   ]
  },
  {
   "cell_type": "markdown",
   "id": "92d70f91-f90c-48e2-9818-b4d00a5f6bd1",
   "metadata": {},
   "source": [
    "# 11.  Problem: A company sells smartphones, and the number of defects per batch follows a Poisson distribution with a mean of 2 defects. What is the probability of having exactly 3 defects in a randomly selected batch?\n",
    " Data: Mean number of defects (λ) = 2, Number of defects (x) = 3"
   ]
  },
  {
   "cell_type": "code",
   "execution_count": 58,
   "id": "b39c30c1-7e31-481d-bfc8-a133c60b0f56",
   "metadata": {},
   "outputs": [
    {
     "name": "stdout",
     "output_type": "stream",
     "text": [
      "The prob of having exactly 3 defects in a randomly selected batch is: 0.1804\n"
     ]
    }
   ],
   "source": [
    "from scipy.stats import poisson\n",
    "lam_ = 2\n",
    "x=3\n",
    "\n",
    "# Using the posion distribution:-\n",
    "prob = poisson.pmf(x,lam_)\n",
    "print(f\"The prob of having exactly 3 defects in a randomly selected batch is: {prob:.4f}\")"
   ]
  },
  {
   "cell_type": "markdown",
   "id": "371dc46c-9f95-45f3-b50a-230fe8ab99ab",
   "metadata": {},
   "source": [
    "# 12.  Problem: In a game, a player has a 0.3 probability of winning each round. If the player plays 10 rounds, what is the probability of winning exactly 3 rounds?\n",
    " Data: Probability of winning (p) = 0.3, Number of rounds (n) = 10, Number of wins (x)\n",
    " = 3"
   ]
  },
  {
   "cell_type": "code",
   "execution_count": 67,
   "id": "a921658d-2784-4fe7-af27-967a47187e90",
   "metadata": {},
   "outputs": [
    {
     "name": "stdout",
     "output_type": "stream",
     "text": [
      "The prob of the winning exactly 3 rounds is : 0.2668\n"
     ]
    }
   ],
   "source": [
    "from scipy.stats import binom\n",
    "p=0.3\n",
    "N=10\n",
    "x=3\n",
    "\n",
    "# Independent distribution (using the discrete binomial distribution):-\n",
    "prob = binom.pmf(x,N,p)\n",
    "print(f\"The prob of the winning exactly 3 rounds is : {prob:.4f}\")"
   ]
  },
  {
   "cell_type": "markdown",
   "id": "c419a267-c50c-416f-bf77-df84f2eccdde",
   "metadata": {},
   "source": [
    "# 13.  Problem: A six-sided fair die is rolled three times. What is the probability of obtaining at least one 6?\n",
    " Data: Number of rolls (n) = 3"
   ]
  },
  {
   "cell_type": "code",
   "execution_count": 72,
   "id": "8560ba5f-f20e-408b-8f39-3df3b066bb4f",
   "metadata": {},
   "outputs": [
    {
     "name": "stdout",
     "output_type": "stream",
     "text": [
      "The prob of getting the zero sixes is: 0.5787\n",
      "The prob of obtaining atleast one six is: 0.4213\n"
     ]
    }
   ],
   "source": [
    "p=1/6\n",
    "n=3\n",
    "x=6\n",
    "\n",
    "# Finding the prob of getting zero six:-(Discrete distribution)\n",
    "p_zero_six = binom.pmf(0,n,p)\n",
    "\n",
    "# Finding the prob of the atleast one 6 after rolling the die:-\n",
    "prob_of_one_six = 1-p_zero_six\n",
    "print(f\"The prob of getting the zero sixes is: {p_zero_six:.4f}\")\n",
    "print(f\"The prob of obtaining atleast one six is: {prob_of_one_six:.4f}\")"
   ]
  },
  {
   "cell_type": "markdown",
   "id": "84974c5a-2793-41fe-a265-84cf92970fdf",
   "metadata": {},
   "source": [
    "# 14. . Problem: The weights of apples in a basket follow a normal distribution with a mean of 150 grams and a standard deviation of 10 grams. What is the probability that a randomly selected apple weighs between 140 and 160 grams?\n",
    " Data: Mean weight (μ) = 150 grams, Standard deviation (σ) = 10 grams, Weight range\n",
    " (lower limit x1, upper limit x2)"
   ]
  },
  {
   "cell_type": "code",
   "execution_count": 75,
   "id": "f25e9d28-32aa-4372-8255-c90ba83b5272",
   "metadata": {},
   "outputs": [
    {
     "name": "stdout",
     "output_type": "stream",
     "text": [
      "The prob of the getting randomly selected apples weighing between the 140 and 160 grams is: 0.6827\n"
     ]
    }
   ],
   "source": [
    "from scipy.stats import norm\n",
    "\n",
    "mean = 150\n",
    "s_d = 10\n",
    "x1=140\n",
    "x2=160\n",
    "\n",
    "lower_limit= 1-norm.cdf(x1,loc=mean,scale=s_d)\n",
    "upper_limit= 1-norm.cdf(x2,loc=mean,scale=s_d)\n",
    "# finding the prob of randomly selected apples:-\n",
    "prob = lower_limit - upper_limit\n",
    "print(f\"The prob of the getting randomly selected apples weighing between the 140 and 160 grams is: {prob:.4f}\")"
   ]
  },
  {
   "cell_type": "markdown",
   "id": "8d831335-fad1-45ae-84f4-c63ef30b6eed",
   "metadata": {},
   "source": [
    "# 15. . Problem: The lifetimes of a certain brand of light bulbs are exponentially distributed with a mean of 1000 hours. What is the probability that a randomly selected light bulb lasts more than 900 hours?\n",
    " Data: Mean lifetime (μ) = 1000 hours, Lifetime threshold (x) = 900 hours"
   ]
  },
  {
   "cell_type": "code",
   "execution_count": 82,
   "id": "025400ee-64a8-4024-befa-d7ce1836a80e",
   "metadata": {},
   "outputs": [
    {
     "name": "stdout",
     "output_type": "stream",
     "text": [
      "The prob of the randomly selected light bulbs lasting more than 900 hours is: 0.5934\n"
     ]
    }
   ],
   "source": [
    "mean = 1000\n",
    "x=900\n",
    "\n",
    "# Using the exponential distribution :-\n",
    "prob = expon.cdf(x,scale=mean)\n",
    "print(f\"The prob of the randomly selected light bulbs lasting more than 900 hours is: {prob:.4f}\")"
   ]
  },
  {
   "cell_type": "markdown",
   "id": "9910b2a9-8215-4609-b5ee-99cfaeb9d5b9",
   "metadata": {},
   "source": [
    "# 16.  Problem: A study is conducted to estimate the mean height of a population. A random sample of 100 individuals is selected, and their heights are measured. Calculate a 95% confidence interval for the population mean height, given that the sample mean height is 170 cm and the sample standard deviation is 8 cm.\n",
    " Data: Sample size (n) = 100, Sample mean (x) = 170 cm, Sample standard deviation\n",
    " (s) = 8 cm, Confidence level = 95%"
   ]
  },
  {
   "cell_type": "code",
   "execution_count": 99,
   "id": "a3b39073-a787-4358-852d-75d8cb0ab521",
   "metadata": {},
   "outputs": [
    {
     "name": "stdout",
     "output_type": "stream",
     "text": [
      "The 95% Confidance interval for the poputlation mean height is: 168.4320, 171.5680\n"
     ]
    }
   ],
   "source": [
    "import math\n",
    "import scipy.stats as stats\n",
    "n=100\n",
    "c_i = 0.95\n",
    "s_mean = 170\n",
    "s_d = 8\n",
    "\n",
    "# finding the std error:-\n",
    "s_e = s_d / math.sqrt(n)\n",
    "\n",
    "# Finding the Z_Score:-\n",
    "Z_score=stats.norm.ppf(1-(1-c_i)/2)\n",
    "\n",
    "# Finding the Marginal error:-\n",
    "M_E = s_e * Z_score\n",
    "\n",
    "# Calculating the lower and upper limit:-\n",
    "lower_limit = s_mean - M_E\n",
    "upper_limit = s_mean + M_E\n",
    "print(f\"The 95% Confidance interval for the poputlation mean height is: {lower_limit:.4f}, {upper_limit:.4f}\")"
   ]
  },
  {
   "cell_type": "markdown",
   "id": "4e4e7e8f-9884-4de0-8c25-ee713303a293",
   "metadata": {},
   "source": [
    "# 17. Problem: A survey is conducted to estimate the proportion of people in a city who support a particular policy. A random sample of 500 individuals is surveyed, and 320 of them express support for the policy. Calculate a 90% confidence interval for the population proportion, given the sample proportion.\n",
    " Data: Sample size (n) = 500, Number of successes (x) = 320, Confidence level = 90%"
   ]
  },
  {
   "cell_type": "code",
   "execution_count": 104,
   "id": "ae37c9a5-5b54-4bc3-a317-0625dc6f7cfd",
   "metadata": {},
   "outputs": [
    {
     "name": "stdout",
     "output_type": "stream",
     "text": [
      "The 90% Confidance Interval for the population is: 307.4948, 332.5052\n"
     ]
    }
   ],
   "source": [
    "n=500\n",
    "x=320\n",
    "c_i=0.90\n",
    "\n",
    "# calulatinng the std_error:-\n",
    "s_e=s_mean/math.sqrt(n)\n",
    "\n",
    "# Calculating the Z_Score:-\n",
    "Z_score = stats.norm.ppf(1-(1-c_i)/2)\n",
    "\n",
    "# Calculating the marginal error:-\n",
    "M_E = Z_score * s_e\n",
    "\n",
    "# Calculating the lower and upper limit:-\n",
    "lower_limit=x-M_E\n",
    "upper_limit=x+M_E\n",
    "\n",
    "\n",
    "print(f\"The 90% Confidance Interval for the population is: {lower_limit:.4f}, {upper_limit:.4f}\")"
   ]
  },
  {
   "cell_type": "markdown",
   "id": "94ef608e-ef45-4f48-9f4d-2a144cdd429a",
   "metadata": {},
   "source": [
    "# 18. Problem: A manufacturing company claims that the average weight of its product is 500 grams. To test this claim, a random sample of 25 products is selected, and their weights are measured. The sample mean weight is found to be 510 grams with a sample standard deviation of 20 grams. Perform a hypothesis test to determine if there is evidence to support the company's claim.\n",
    " Data: Sample size (n) = 25, Sample mean (x) = 510 grams, Sample standard\n",
    " deviation (s) = 20 grams, Population mean (μ) = 500 grams"
   ]
  },
  {
   "cell_type": "code",
   "execution_count": 127,
   "id": "c784fc34-3cfd-4ec3-ba7e-4199385a04d7",
   "metadata": {},
   "outputs": [
    {
     "name": "stdout",
     "output_type": "stream",
     "text": [
      "The t_stats value is: 2.5000\n",
      "The prob value of two tail test is: 0.0197\n",
      "The critical value is: 2.0639\n"
     ]
    }
   ],
   "source": [
    "n=25\n",
    "s_mean = 510\n",
    "s_d=20\n",
    "mu=500\n",
    "alpha = 0.05\n",
    "d_f=n-1\n",
    "\n",
    "# Calculating the t-stats:-\n",
    "t_stats = (s_mean - mu) / (s_d/math.sqrt(n))\n",
    "\n",
    "# using the two tail test:-\n",
    "p_value = 2* (1-stats.t.cdf(abs(t_stats),d_f))\n",
    "\n",
    "# Calcluating the critical value:-\n",
    "critical_value = stats.t.ppf(1-alpha/2,d_f)\n",
    "\n",
    "\n",
    "print(f\"The t_stats value is: {t_stats:.4f}\")\n",
    "print(f\"The prob value of two tail test is: {p_value:.4f}\")\n",
    "print(f\"The critical value is: {critical_value:.4f}\")\n",
    "\n",
    "if "
   ]
  },
  {
   "cell_type": "code",
   "execution_count": null,
   "id": "c60e990f-d140-44c2-becf-dfc9bd2ccf64",
   "metadata": {},
   "outputs": [],
   "source": []
  }
 ],
 "metadata": {
  "kernelspec": {
   "display_name": "Python [conda env:base] *",
   "language": "python",
   "name": "conda-base-py"
  },
  "language_info": {
   "codemirror_mode": {
    "name": "ipython",
    "version": 3
   },
   "file_extension": ".py",
   "mimetype": "text/x-python",
   "name": "python",
   "nbconvert_exporter": "python",
   "pygments_lexer": "ipython3",
   "version": "3.12.7"
  }
 },
 "nbformat": 4,
 "nbformat_minor": 5
}
