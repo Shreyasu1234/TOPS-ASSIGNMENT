{
 "cells": [
  {
   "cell_type": "markdown",
   "id": "932719ed-12c6-4f83-b5d3-b910043856a9",
   "metadata": {},
   "source": [
    "# 1.  Write a python program to sum of the first n positive integers:-"
   ]
  },
  {
   "cell_type": "code",
   "execution_count": 34,
   "id": "6bcdfada-e3e6-4b2b-9cff-a343cf8b4f86",
   "metadata": {},
   "outputs": [
    {
     "name": "stdin",
     "output_type": "stream",
     "text": [
      "Enter the positive intger:  -1\n"
     ]
    },
    {
     "name": "stdout",
     "output_type": "stream",
     "text": [
      "Invalid Input, please enter the positive integer !!\n"
     ]
    }
   ],
   "source": [
    "def sum_of_n_positive_integer(num):\n",
    "    return num*(num+1)//2\n",
    "\n",
    "try:\n",
    "    # taking input:-\n",
    "    num=int(input(\"Enter the positive intger: \"))\n",
    "    if num>0:\n",
    "        result = sum_of_n_positive_integer(num)\n",
    "        print(f\"The sum of {num} postive integer is = {result}\")\n",
    "    else:\n",
    "        print(\"Invalid Input, please enter the positive integer !!\")\n",
    "\n",
    "except ValueError:\n",
    "    print(f\"Something went wrong, Please enter valid input !!\")\n",
    "        "
   ]
  },
  {
   "cell_type": "markdown",
   "id": "4a72b1b5-cf02-4f03-9d97-c4b72efa63e4",
   "metadata": {},
   "source": [
    "# 2. Write a Python program to count occurrences of a substring in a string."
   ]
  },
  {
   "cell_type": "code",
   "execution_count": 43,
   "id": "c1b2986a-d9ba-42e3-98e4-570fecc29378",
   "metadata": {},
   "outputs": [
    {
     "name": "stdout",
     "output_type": "stream",
     "text": [
      "The count of occu of Sub String Shreyas is equals to 1\n"
     ]
    }
   ],
   "source": [
    "def count_of_occu(main_string,sub_string):\n",
    "    return main_string.count(sub_string)\n",
    "\n",
    "# taking the main & sub string:\n",
    "main_string=\"Hello Shreyas, Hello Om\"\n",
    "sub_string = \"Shreyas\"\n",
    "\n",
    "count = count_of_occu(main_string,sub_string)\n",
    "print(f\"The count of occu of Sub String {sub_string} is equals to {count}\")"
   ]
  },
  {
   "cell_type": "markdown",
   "id": "d6d88ea3-d194-4022-9df3-7b79fd0fee86",
   "metadata": {},
   "source": [
    "# 3. Write a Python program to count the occurrences of each word in a given sentence.."
   ]
  },
  {
   "cell_type": "code",
   "execution_count": 1,
   "id": "79721ee7-38ff-4ea4-bd93-13a3a5b16b25",
   "metadata": {},
   "outputs": [
    {
     "name": "stdin",
     "output_type": "stream",
     "text": [
      "Enter the sentence:  The python, Python programming\n"
     ]
    },
    {
     "name": "stdout",
     "output_type": "stream",
     "text": [
      "The occurence of the words in the sentence is: {'the': 1, 'python,': 1, 'python': 1, 'programming': 1}\n"
     ]
    }
   ],
   "source": [
    "sentence = input(\"Enter the sentence: \")\n",
    "\n",
    "sentence = sentence.lower()\n",
    "\n",
    "# to convert the given sentence into the seperate words:-\n",
    "words = sentence.split()\n",
    "\n",
    "# create a dict to store the items:-\n",
    "count={}\n",
    "\n",
    "for i in words:\n",
    "    if i in count:\n",
    "        count[i]+=1\n",
    "    else:\n",
    "        count[i]=1\n",
    "\n",
    "print(f\"The occurence of the words in the sentence is:\",count)"
   ]
  },
  {
   "cell_type": "markdown",
   "id": "f5bd93c8-6e8f-44c2-9b6d-68c0b0edcdea",
   "metadata": {},
   "source": [
    "# 4. Write a Python program to get a single string from two given strings, separated by a space and swap the first two characters of each string."
   ]
  },
  {
   "cell_type": "code",
   "execution_count": 89,
   "id": "e27d781a-1ce9-41f3-a2ba-cc0e96604651",
   "metadata": {},
   "outputs": [
    {
     "name": "stdin",
     "output_type": "stream",
     "text": [
      "Enter the string1:  s\n",
      "Enter the string2:  shreyas\n"
     ]
    }
   ],
   "source": [
    "def swap_and_connect(string1,string2):\n",
    "    if len(string1)<2 or len(string2) <2:\n",
    "        return \"The length of both the strings should be atleast two !!\"\n",
    "\n",
    "    # taking a string by swapping:-\n",
    "    \n",
    "    new_string1=string2[:2] + string1[2:]\n",
    "    new_string2=string1[:2] + string2[2:]\n",
    "\n",
    "    # Connect the two strings:-\n",
    "    connect = new_string1 + \" \" + new_string2\n",
    "    print(f\"The two strings are combined: {connect}\")\n",
    "\n",
    "# taking the two string inputs:-\n",
    "string1 = input(\"Enter the string1: \")\n",
    "string2 = input(\"Enter the string2: \")\n",
    "\n",
    "result_show=swap_and_connect(string1,string2)"
   ]
  },
  {
   "cell_type": "markdown",
   "id": "36a952c1-be29-42c2-b5d3-d7ac5333d633",
   "metadata": {},
   "source": [
    "# 5.  Write a Python program to add 'ing' at the end of a given string (length should beat least 3). If the given string already ends with 'ing' then add 'ly' instead If the string length of the given string is less than 3, leave it unchanged"
   ]
  },
  {
   "cell_type": "code",
   "execution_count": 126,
   "id": "dd2704f9-5a0b-4fed-ba49-6ed635f8f11a",
   "metadata": {},
   "outputs": [
    {
     "name": "stdout",
     "output_type": "stream",
     "text": [
      "The modified string prepary is: preparying\n",
      "The modified string preparying is: preparyingly\n",
      "The modified string go is: go\n"
     ]
    }
   ],
   "source": [
    "def add_ing_or_ly(word):\n",
    "    if len(word)<3:\n",
    "        return word\n",
    "    elif word.endswith(\"ing\"):\n",
    "        return word +\"ly\"\n",
    "    else:\n",
    "        return word + \"ing\"\n",
    "\n",
    "# taking a list of the words:-\n",
    "list = [\"prepary\",\"preparying\",\"go\"]\n",
    "\n",
    "for words in list:\n",
    "    print(f\"The modified string {words} is: {add_ing_or_ly(words)}\")"
   ]
  },
  {
   "cell_type": "markdown",
   "id": "3dd3b8fe-0804-490e-b487-6a6bede85e82",
   "metadata": {},
   "source": [
    "# 6. Write a Python program to check whether a list contains a sublist."
   ]
  },
  {
   "cell_type": "code",
   "execution_count": 21,
   "id": "33a8c721-5f03-475b-9edd-4f2483b04ce9",
   "metadata": {},
   "outputs": [
    {
     "name": "stdout",
     "output_type": "stream",
     "text": [
      "The [4, 5, 6] is a part of the [1, 2, 3, 4, 5, 6, 7, 8]\n"
     ]
    }
   ],
   "source": [
    "main_list=[1,2,3,4,5,6,7,8] \n",
    "new_list=[4,5,6]\n",
    "\n",
    "check=False\n",
    "\n",
    "for i in range(len(main_list)-len(new_list)+1):\n",
    "    # slicing the list1:-\n",
    "    if main_list[i:i+len(new_list)]==new_list:\n",
    "        check = True\n",
    "        break\n",
    "\n",
    "if check:\n",
    "    print(f\"The {new_list} is a part of the {main_list}\")\n",
    "else:\n",
    "    print(f\"The {new_list} is not a part of {main_list}\")"
   ]
  },
  {
   "cell_type": "markdown",
   "id": "2afede7f-93d6-445e-9465-eaf6a8b2d46b",
   "metadata": {},
   "source": [
    "# 7. Write a Python program to find the second smallest number in a list:-\n"
   ]
  },
  {
   "cell_type": "code",
   "execution_count": 45,
   "id": "054347ba-bb1e-4309-8748-ae2ed78e1362",
   "metadata": {},
   "outputs": [
    {
     "name": "stdout",
     "output_type": "stream",
     "text": [
      "The second smallest number from the [1, 4, 5, 6, 7, 2] is 2\n"
     ]
    }
   ],
   "source": [
    "def second_smallest_number(numbers):\n",
    "    # to check the length of the list:-\n",
    "    if len(numbers)<2:\n",
    "        return \"The lenght of the numbers list should be atleast two !!\"\n",
    "    # sorting the numbers ffrom the list:-\n",
    "    numbers.sort()\n",
    "\n",
    "    # printing the second smallest number from the list:-\n",
    "    return numbers[1]\n",
    "\n",
    "list=[1,4,5,6,7,2]\n",
    "print(f\"The second smallest number from the {list} is {second_smallest_number(list)}\")"
   ]
  },
  {
   "cell_type": "markdown",
   "id": "86e5c64c-59b6-4c58-999e-d82eb187097e",
   "metadata": {},
   "source": [
    "# 8. Write a Python program to get unique values from a list"
   ]
  },
  {
   "cell_type": "code",
   "execution_count": 1,
   "id": "27da8458-a7b6-4f6b-89a3-5fa3dcb9bb6e",
   "metadata": {},
   "outputs": [
    {
     "name": "stdout",
     "output_type": "stream",
     "text": [
      "The Unique elements from [1, 2, 3, 4, 3, 5, 4, 6, 7, 5] is [1, 2, 3, 4, 5, 6, 7]\n"
     ]
    }
   ],
   "source": [
    "def unique_values(numbers):\n",
    "    # to check the length:-\n",
    "    if len(numbers)<2:\n",
    "        return \"The size of the numbers should be greater than 2 !!\"\n",
    "\n",
    "    unique_list = list(set(numbers))\n",
    "    return unique_list\n",
    "\n",
    "my_list=[1,2,3,4,3,5,4,6,7,5]\n",
    "print(f\"The Unique elements from {my_list} is {unique_values(my_list)}\")"
   ]
  },
  {
   "cell_type": "markdown",
   "id": "0c39e9c6-8257-43c3-bc56-eeaa856fdec5",
   "metadata": {},
   "source": [
    "# 9. Write a Python program to unzip a list of tuples into individual lists."
   ]
  },
  {
   "cell_type": "code",
   "execution_count": 3,
   "id": "bc5f68e9-a3a5-4c9f-b459-89d97219240c",
   "metadata": {},
   "outputs": [
    {
     "name": "stdout",
     "output_type": "stream",
     "text": [
      "The unpacked list [1, 2, 3, 4] is :  [1, 2, 3, 4]\n",
      "The unpacked list ['x', 'y', 'z', 'd'] is :  ['x', 'y', 'z', 'd']\n"
     ]
    }
   ],
   "source": [
    "# taking the zipped list:-\n",
    "\n",
    "zipped_list=[(1,'x'),(2,'y'),(3,'z'),(4,'d')]\n",
    "\n",
    "# unpacking the zipped_list:-\n",
    "unpacked_list1,unpacked_list2=zip(*zipped_list)\n",
    "\n",
    "# Storing the unpacked list into the list form:-\n",
    "unpacked_list1=list(unpacked_list1)\n",
    "unpacked_list2=list(unpacked_list2)\n",
    "\n",
    "print(f\"The unpacked list {unpacked_list1} is : \", unpacked_list1)\n",
    "print(f\"The unpacked list {unpacked_list2} is : \", unpacked_list2)"
   ]
  },
  {
   "cell_type": "markdown",
   "id": "cfe8bce8-df50-49e2-a1c5-e4dc961ccde0",
   "metadata": {},
   "source": [
    "# 10. Write a Python program to convert a list of tuples into a dictionary:-"
   ]
  },
  {
   "cell_type": "code",
   "execution_count": 12,
   "id": "9ffa12ac-7d7f-4f07-8908-6b8ab3de3c93",
   "metadata": {},
   "outputs": [
    {
     "name": "stdout",
     "output_type": "stream",
     "text": [
      "The dictionary elements are:  {23: 'shreyas', 34: 'om', 35: 'prathamesh', 45: 'yadhav'}\n"
     ]
    }
   ],
   "source": [
    "# Creating the tuples:-\n",
    "tuples=[(23,\"shreyas\"),(34,\"om\"),(35,\"prathamesh\"),(45,\"yadhav\")]\n",
    "\n",
    "# converting the list of the tupels into the dict:-\n",
    "dictionary = dict(tuples)\n",
    "\n",
    "print(f\"The dictionary elements are: \",dictionary)"
   ]
  },
  {
   "cell_type": "markdown",
   "id": "85cfeb3d-876c-4e6e-984c-37e2a9b66c5c",
   "metadata": {},
   "source": [
    "# 11. Write a Python program to sort a dictionary (ascending /descending) by value"
   ]
  },
  {
   "cell_type": "code",
   "execution_count": 15,
   "id": "281cffb0-17de-43e8-bf65-dbf1cdbdf122",
   "metadata": {},
   "outputs": [
    {
     "name": "stdout",
     "output_type": "stream",
     "text": [
      "The asscending order of the elements is:  {2: 'shreyas', 3: 'Omkar', 4: 'Om', 5: 'Prathamesh'}\n",
      "The descending order of the dict is:  {5: 'Prathamesh', 4: 'Om', 3: 'Omkar', 2: 'shreyas'}\n"
     ]
    }
   ],
   "source": [
    "# Creating the dictionary :-\n",
    "my_dict = {2:\"shreyas\",4:\"Om\",3:\"Omkar\",5:\"Prathamesh\"}\n",
    "        \n",
    "# converting into the asscending order:-\n",
    "asscending_order=dict(sorted(my_dict.items(), key = lambda item:item[0]))\n",
    "print(\"The asscending order of the elements is: \",asscending_order)\n",
    "# Converitng the descending order:-\n",
    "descending_order=dict(sorted(my_dict.items(), key=lambda item:item[0],reverse=True))\n",
    "print(\"The descending order of the dict is: \",descending_order)"
   ]
  },
  {
   "cell_type": "markdown",
   "id": "812cd9cc-5249-44c2-9f6a-d9f22d89dacb",
   "metadata": {},
   "source": [
    "# 12. Write a Python program to find the highest 3 values in a dictionary."
   ]
  },
  {
   "cell_type": "code",
   "execution_count": 1,
   "id": "04d7f676-597d-4309-baf3-ad91357f22fc",
   "metadata": {},
   "outputs": [
    {
     "name": "stdout",
     "output_type": "stream",
     "text": [
      "The 3 highest values from the dictionary is:  {189: 'Omkar', 176: 'Prathamesh', 121: 'Shreyas'}\n"
     ]
    }
   ],
   "source": [
    "# Creating the dictionary:-\n",
    "my_dict={121:\"Shreyas\",176:\"Prathamesh\",43:\"Om\",189:\"Omkar\",35:\"prem\"}\n",
    "\n",
    "# taking the top 3 values from the dictionary:-\n",
    "highest_values=dict(sorted(my_dict.items(), key=lambda item:item[0],reverse=True)[:3])\n",
    "print(f\"The 3 highest values from the dictionary is: \",highest_values)"
   ]
  },
  {
   "cell_type": "code",
   "execution_count": 42,
   "id": "d400b5da-e113-4483-9fb6-5da9991a4692",
   "metadata": {},
   "outputs": [],
   "source": [
    "\n",
    "my_dict={121:\"Shreyas\",176:\"Prathamesh\",43:\"Om\",189:\"Omkar\",35:\"prem\"}\n",
    "\n",
    "top_3_values=[key for key, value in sorted(my_dict.items(),key=lambda item:item[0],reverse=True)[:3]]"
   ]
  },
  {
   "cell_type": "code",
   "execution_count": 72,
   "id": "2ee053f4-e8bd-4113-9c56-a64a2f58a486",
   "metadata": {},
   "outputs": [
    {
     "data": {
      "text/plain": [
       "[189, 176, 121]"
      ]
     },
     "execution_count": 72,
     "metadata": {},
     "output_type": "execute_result"
    }
   ],
   "source": [
    "top_3_values"
   ]
  },
  {
   "cell_type": "markdown",
   "id": "b84df0bc-31c6-41b1-9850-9d1ee0e8e19d",
   "metadata": {},
   "source": [
    "# 13. Given a number n, write a python program to make and print the list of Fibonacci series up to n. Input : n=7 Hint : first 7 numbers in the series Expected output :\n",
    "# First few Fibonacci numbers are 0, 1, 1, 2, 3, 5, 8, 13.."
   ]
  },
  {
   "cell_type": "code",
   "execution_count": 90,
   "id": "21293cf4-ab15-4b35-a749-ea49073a62eb",
   "metadata": {},
   "outputs": [
    {
     "name": "stdin",
     "output_type": "stream",
     "text": [
      "Enter the number:  7\n"
     ]
    },
    {
     "name": "stdout",
     "output_type": "stream",
     "text": [
      "The Fibonacci Series is:  0, 1, 1, 2, 3, 5, 8\n"
     ]
    }
   ],
   "source": [
    "num = int(input(\"Enter the number: \"))\n",
    "\n",
    "# initializing the a and b :-\n",
    "a=0\n",
    "b=1\n",
    "\n",
    "# making the empty list of fibonacci series:\n",
    "Fibonacci=[]\n",
    "\n",
    "for i in range(num):\n",
    "    # stroing the values:-\n",
    "    Fibonacci.append(a)\n",
    "    a,b=b,a+b\n",
    "# formating the given numbers into the string:-\n",
    "print(\"The Fibonacci Series is: \",', '.join(str(num) for num in Fibonacci))"
   ]
  },
  {
   "cell_type": "markdown",
   "id": "fe55d87e-a364-406c-9b19-75219e7a476e",
   "metadata": {},
   "source": [
    "# 14. .Python Program to Find Factorial of Number Using Recursion"
   ]
  },
  {
   "cell_type": "code",
   "execution_count": 4,
   "id": "8747507b-031e-44a1-87ea-03eab7bf0743",
   "metadata": {},
   "outputs": [
    {
     "name": "stdin",
     "output_type": "stream",
     "text": [
      "Enter the number:  4\n"
     ]
    },
    {
     "name": "stdout",
     "output_type": "stream",
     "text": [
      "The factorial of 4 is: 24\n"
     ]
    }
   ],
   "source": [
    "# Python prog for the factorial of number:-\n",
    "\n",
    "def factorial_of_num(n):\n",
    "    if n==0 or n==1:\n",
    "        return 1\n",
    "    else:\n",
    "        # recurssive method:-\n",
    "        return n*factorial_of_num(n-1)\n",
    "\n",
    "n=int(input(\"Enter the number: \"))\n",
    "print(f\"The factorial of {n} is: {factorial_of_num(n)}\")"
   ]
  },
  {
   "cell_type": "markdown",
   "id": "203f7609-c534-461f-aea5-22b9cc484c28",
   "metadata": {},
   "source": [
    "# 15. Write a Python function that takes a list and returns a new list with unique elements of the first list"
   ]
  },
  {
   "cell_type": "code",
   "execution_count": 9,
   "id": "86080008-6a6d-4691-9abb-131953afcbe4",
   "metadata": {},
   "outputs": [
    {
     "name": "stdout",
     "output_type": "stream",
     "text": [
      "The unique elements from the list are: [1, 2, 3, 4, 5, 6, 7]\n"
     ]
    }
   ],
   "source": [
    "def unique_items(num):\n",
    "    if len(num)<3:\n",
    "        return \"The length should me maximum !!\"\n",
    "    unique_elements=list(set(num))\n",
    "    return unique_elements\n",
    "\n",
    "my_list=[1,2,3,2,4,3,5,3,7,6,7]\n",
    "print(f\"The unique elements from the list are: {unique_items(my_list)}\")"
   ]
  },
  {
   "cell_type": "markdown",
   "id": "40021e43-f791-40a5-abb0-2669c82f29a3",
   "metadata": {},
   "source": [
    "# 16. Write a python program using function to find the sum of odd series and even series\n",
    "# Odd series: 12/ 1! +32/ 3! + 52/ 5!+……n\n",
    "# Even series: 22/ 2! + 42/ 4! + 62/ 6!+……n"
   ]
  },
  {
   "cell_type": "code",
   "execution_count": 15,
   "id": "dbf6ecbf-553d-4d44-ba46-82c63c78062e",
   "metadata": {},
   "outputs": [
    {
     "name": "stdin",
     "output_type": "stream",
     "text": [
      "Enter the number:  6\n"
     ]
    },
    {
     "name": "stdout",
     "output_type": "stream",
     "text": [
      "The factorial of the number is: 2.7083\n",
      "The factorial of even number is:0.0000\n"
     ]
    }
   ],
   "source": [
    "import math \n",
    "\n",
    "def sum_of_odd_series(n):\n",
    "    sum_odd = 0\n",
    "    for i in range(1,n+1,2):\n",
    "        odd_series = i**2 / math.factorial(i)\n",
    "        sum_odd+=odd_series\n",
    "    return sum_odd\n",
    "\n",
    "def sum_of_even_series(n):\n",
    "    sum_even = 0\n",
    "    for i in range(2,n+1,2):\n",
    "        even_series = i**2 / math.factorial(i)\n",
    "    return sum_even\n",
    "\n",
    "# taking the input:-\n",
    "n=int(input(\"Enter the number: \"))\n",
    "\n",
    "sum_of_odd = sum_of_odd_series(n)\n",
    "sum_of_even = sum_of_even_series(n)\n",
    "\n",
    "print(f\"The factorial of the number is: {sum_of_odd:.4f}\")\n",
    "print(f\"The factorial of even number is:{sum_of_even:.4f}\")"
   ]
  },
  {
   "cell_type": "markdown",
   "id": "e43849d9-e614-4eea-812d-2b541b0ef4c0",
   "metadata": {},
   "source": [
    "# 17. Counting the frequencies in a list using a dictionary in Python. Input : [1, 1, 1, 5, 5, 3, 1, 3, 3, 1,4, 4, 4, 2, 2, 2, 2]"
   ]
  },
  {
   "cell_type": "code",
   "execution_count": 23,
   "id": "ebf9aafe-de7a-440c-aaff-8d0b3711eefa",
   "metadata": {},
   "outputs": [
    {
     "name": "stdout",
     "output_type": "stream",
     "text": [
      "The frequesncy of the elements in the list are: {1: 5, 5: 2, 3: 3, 4: 3, 2: 4}\n"
     ]
    }
   ],
   "source": [
    "# taking a list:-\n",
    "\n",
    "list=[1, 1, 1, 5, 5, 3, 1, 3, 3, 1,4, 4, 4, 2, 2, 2, 2]\n",
    "\n",
    "# taking a empty dictionary:-\n",
    "dict={}\n",
    "\n",
    "for ele in list:\n",
    "    if ele in dict:\n",
    "        dict[ele]+=1\n",
    "    else:\n",
    "        dict[ele]=1\n",
    "print(f\"The frequesncy of the elements in the list are: {dict}\")"
   ]
  },
  {
   "cell_type": "markdown",
   "id": "669a2c41-03c2-460c-acb7-684fe8efbfe0",
   "metadata": {},
   "source": [
    " # 18. Program to find Greatest Common Divisor of two numbers. For example, the GCDof20 and 28 is 4 and the GCD of 98 and 56 is 14."
   ]
  },
  {
   "cell_type": "code",
   "execution_count": 41,
   "id": "46c51aec-c613-49c8-b5fb-0025022fdd9d",
   "metadata": {},
   "outputs": [
    {
     "name": "stdin",
     "output_type": "stream",
     "text": [
      "Enter the value of a:  28\n",
      "Enter the value of b:  30\n"
     ]
    },
    {
     "name": "stdout",
     "output_type": "stream",
     "text": [
      "The GCD of two var 28 and 30 is equals to:  {2}\n"
     ]
    }
   ],
   "source": [
    "def GCD(a,b):\n",
    "    while b!=0:\n",
    "        a,b=b,a%b\n",
    "    return a\n",
    "   \n",
    "a=int(input(\"Enter the value of a: \"))\n",
    "b=int(input(\"Enter the value of b: \"))\n",
    "\n",
    "print(f\"The GCD of two var {a} and {b} is equals to: \",{GCD(a,b)})"
   ]
  },
  {
   "cell_type": "markdown",
   "id": "c5da42aa-a757-4022-821a-ed0cd5b7b921",
   "metadata": {},
   "source": [
    "# 19. MINI PROJECT:-       Write a python program to create a password:-"
   ]
  },
  {
   "cell_type": "code",
   "execution_count": 20,
   "id": "ff472e85-8dab-4285-ab31-23fa42f12232",
   "metadata": {},
   "outputs": [],
   "source": [
    "import string\n",
    "import random"
   ]
  },
  {
   "cell_type": "code",
   "execution_count": 32,
   "id": "8cb1dd6b-515d-44e7-a0ee-854b6da79f35",
   "metadata": {},
   "outputs": [
    {
     "name": "stdin",
     "output_type": "stream",
     "text": [
      "Enter the User ID:  S234\n",
      "Enter the User Name:  shreyas\n",
      "Enter a sentence or some words to base your password on:  python is good and easy to learn \n"
     ]
    },
    {
     "name": "stdout",
     "output_type": "stream",
     "text": [
      "\n",
      "Password created successfully!\n",
      "The user ID is: S234\n",
      "The user name is: shreyas\n",
      "The password is: *o1V4ptn#tyohG%\n"
     ]
    }
   ],
   "source": [
    "class Password:\n",
    "    def __init__(self, user_id, user_name, user_password):\n",
    "        self.user_id = user_id\n",
    "        self.user_name = user_name\n",
    "        self.user_password = user_password\n",
    "\n",
    "    # Display function\n",
    "    def display(self):\n",
    "        print(f\"The user ID is: {self.user_id}\")\n",
    "        print(f\"The user name is: {self.user_name}\")\n",
    "        print(f\"The password is: {self.user_password}\")\n",
    "\n",
    "# Function to create a password\n",
    "def create_a_password(user_data):\n",
    "    try:\n",
    "        words = user_data.split()\n",
    "        if len(words) < 2:\n",
    "            return \"The input must contain at least two words!\"\n",
    "\n",
    "        # Selecting the words randomly:-\n",
    "        word_selection = random.sample(words, 2)\n",
    "\n",
    "        # Generation the special characters:-\n",
    "        special_chars = ''.join(random.choices(\"!@$#%^&*()\", k=3))\n",
    "        digits = ''.join(random.choices(string.digits, k=2))\n",
    "        uppercases = ''.join(random.choices(string.ascii_uppercase, k=2))\n",
    "\n",
    "        # Combine the words:-\n",
    "        password_created = ''.join(word_selection) + special_chars + digits + uppercases\n",
    "        password_created = ''.join(random.sample(password_created, len(password_created)))\n",
    "\n",
    "        # checking the length of the password:-\n",
    "        if len(password_created) < 8:\n",
    "            password_created += random.choice(string.ascii_letters + string.digits + \"!@#$%^&*\")\n",
    "\n",
    "        return password_created\n",
    "\n",
    "    except Exception as e:\n",
    "        print(\"Something went wrong when creating the password!\", e)\n",
    "        return None\n",
    "\n",
    "# Taking the input from the user:-\n",
    "try:\n",
    "    user_id = input(\"Enter the User ID: \")\n",
    "    user_name = input(\"Enter the User Name: \")\n",
    "    user_data = input(\"Enter a sentence or some words to base your password on: \")\n",
    "\n",
    "    password_generated = create_a_password(user_data)\n",
    "\n",
    "    if password_generated and \"The input must contain\" not in password_generated:\n",
    "        user = Password(user_id, user_name, password_generated)\n",
    "        print(\"\\nPassword created successfully!\")\n",
    "        user.display()\n",
    "    else:\n",
    "        print(\"\\nPassword creation failed:\", password_generated)\n",
    "\n",
    "except Exception as e:\n",
    "    print(\"Something went wrong!\", e)"
   ]
  },
  {
   "cell_type": "code",
   "execution_count": null,
   "id": "839de518-cedc-4065-8276-da3dc494a608",
   "metadata": {},
   "outputs": [],
   "source": [
    "\n"
   ]
  }
 ],
 "metadata": {
  "kernelspec": {
   "display_name": "Python [conda env:base] *",
   "language": "python",
   "name": "conda-base-py"
  },
  "language_info": {
   "codemirror_mode": {
    "name": "ipython",
    "version": 3
   },
   "file_extension": ".py",
   "mimetype": "text/x-python",
   "name": "python",
   "nbconvert_exporter": "python",
   "pygments_lexer": "ipython3",
   "version": "3.12.7"
  }
 },
 "nbformat": 4,
 "nbformat_minor": 5
}
