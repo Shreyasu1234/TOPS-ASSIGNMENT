{
 "cells": [
  {
   "cell_type": "markdown",
   "id": "bda9f86c-18be-4b2c-8446-1ea77958ec66",
   "metadata": {},
   "source": [
    "# Create A Password Generation:- For the ATM"
   ]
  },
  {
   "cell_type": "code",
   "execution_count": null,
   "id": "5c9e4e9d-7674-427b-8d15-cba2e4a16015",
   "metadata": {},
   "outputs": [],
   "source": [
    "class ATM():\n",
    "    def __init__(self):\n",
    "        self.pin=\"\"\n",
    "        self.balance=0\n",
    "\n",
    "    def change_pin(self):\n",
    "        new_pin=input(\"Enter the pin: \")\n",
    "        self.pin=new_pin\n",
    "        print(\"Passoword changed succesffully !!\")\n",
    "\n",
    "    def deposit_money(self):\n",
    "        deposit=float(input(\"Enter the deposit amount: \"))\n",
    "        if deposit<0:\n",
    "            print(\"Balance is zero u need to add the amoount!!\")\n",
    "        else:\n",
    "            self.balance+=deposit\n",
    "            print(f\"Deposited Amount{deposit}.New Amount:{self.balance}\")\n",
    "    def withdraw_amount(self):\n",
    "        pin_created=input(\"Enter the pin: \")\n",
    "        if pin_created==self.pin:\n",
    "            amount_to_withdraw=int(input(\"Enter the amount: \"))\n",
    "            if 0<amount_to_withdraw>=self.balance:\n",
    "                amount_to_withdraw-=self.balance\n",
    "                print(f,\"{Amount withdrawl}, Remaining_Balance{self.balance\")\n",
    "            else:\n",
    "                print(\"Insufficient Balance cant withdraw !!\")\n",
    "    def check_balance(self):\n",
    "        pin_created=input(\"Enter the pin: \")\n",
    "        if pin_created==self.pin:\n",
    "            print(f\"Balance is {self.balance}\")\n",
    "\n",
    "\n",
    "# Object Creation:-\n",
    "\n",
    "atm=ATM()\n",
    "\n",
    "while True:\n",
    "    print(\"1. Change Pin\")\n",
    "    print(\"2. Deposit Money\")\n",
    "    print(\"3. Withdraw Money\")\n",
    "    print(\"4. Check Balance\")\n",
    "    print(\"5. Exit\")\n",
    "    choice = int(input(\"Enter the choice: \"))\n",
    "\n",
    "    if choice == 1:\n",
    "        atm.change_pin()\n",
    "    elif choice == 2:\n",
    "        atm.deposit_money()\n",
    "    elif choice == 3:\n",
    "        atm.withdraw_amount()\n",
    "    elif choice == 4:\n",
    "        atm.check_balance()\n",
    "    elif choice==5:\n",
    "        print(\"Thanks visit next time !!\")\n",
    "        break\n",
    "    else:\n",
    "        print(\"Invalid Choice !!\")"
   ]
  }
 ],
 "metadata": {
  "kernelspec": {
   "display_name": "Python [conda env:base] *",
   "language": "python",
   "name": "conda-base-py"
  },
  "language_info": {
   "codemirror_mode": {
    "name": "ipython",
    "version": 3
   },
   "file_extension": ".py",
   "mimetype": "text/x-python",
   "name": "python",
   "nbconvert_exporter": "python",
   "pygments_lexer": "ipython3",
   "version": "3.12.7"
  }
 },
 "nbformat": 4,
 "nbformat_minor": 5
}
